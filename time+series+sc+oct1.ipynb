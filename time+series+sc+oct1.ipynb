{
 "cells": [
  {
   "cell_type": "markdown",
   "metadata": {},
   "source": [
    "# Streetcar Delay Prediction\n",
    "\n",
    "Use dataset covering Toronto Transit Commission (TTC) streetcar delays 2014 - 2018 to predict future delays and come up with recommendations for avoiding delays.\n",
    "\n",
    "Source dataset: : https://www.toronto.ca/city-government/data-research-maps/open-data/open-data-catalogue/#e8f359f0-2f47-3058-bf64-6ec488de52da"
   ]
  },
  {
   "cell_type": "code",
   "execution_count": 65,
   "metadata": {
    "collapsed": true
   },
   "outputs": [],
   "source": [
    "# test"
   ]
  },
  {
   "cell_type": "markdown",
   "metadata": {},
   "source": [
    "# Load and Save Data\n",
    "- parse list of XLS files \n",
    "- load XLS files, tab by tab, into dataframe\n",
    "- pickle dataframe for future runs"
   ]
  },
  {
   "cell_type": "code",
   "execution_count": 1,
   "metadata": {
    "collapsed": false
   },
   "outputs": [
    {
     "name": "stderr",
     "output_type": "stream",
     "text": [
      "/opt/conda/lib/python2.7/site-packages/statsmodels/compat/pandas.py:56: FutureWarning: The pandas.core.datetools module is deprecated and will be removed in a future version. Please use the pandas.tseries module instead.\n",
      "  from pandas.core import datetools\n"
     ]
    }
   ],
   "source": [
    "import numpy as np # linear algebra\n",
    "import pandas as pd # data processing, CSV file I/O (e.g. pd.read_csv)\n",
    "import matplotlib.pyplot as plt\n",
    "import statsmodels.api as sm\n",
    "import seaborn as sns\n",
    "import datetime\n"
   ]
  },
  {
   "cell_type": "code",
   "execution_count": 2,
   "metadata": {
    "collapsed": true
   },
   "outputs": [],
   "source": [
    "path = '../datasets/'"
   ]
  },
  {
   "cell_type": "code",
   "execution_count": 3,
   "metadata": {
    "collapsed": false
   },
   "outputs": [],
   "source": [
    "#path = os.getcwd()\n",
    "def get_xls_list(path):\n",
    "    # path = '../datasets/'\n",
    "    files = os.listdir(path)\n",
    "    files_xls = [f for f in files if f[-4:] == 'xlsx']\n",
    "    print(files)\n",
    "    print(files_xls)\n",
    "    return(files_xls)\n"
   ]
  },
  {
   "cell_type": "code",
   "execution_count": 4,
   "metadata": {
    "collapsed": true
   },
   "outputs": [],
   "source": [
    "def load_xls(path, files_xls, df):\n",
    "    for f in files_xls:\n",
    "        print(\"file name\",f)\n",
    "        xlsf = pd.ExcelFile(path+f)\n",
    "        # iterate through sheets\n",
    "        for sheet_name in xlsf.sheet_names:\n",
    "            # df = pd.read_excel(file_name, sheetname=\"house\")\n",
    "            print(\"sheet_name\",sheet_name)\n",
    "            if (f <> 'Streetcar 2014.xlsx') or (sheet_name <> 'Jan 2014'):\n",
    "                print(\"sheet_name in loop\",sheet_name)\n",
    "                data = pd.read_excel(path+f,sheetname=sheet_name)    \n",
    "                df = df.append(data)\n",
    "    return (df)"
   ]
  },
  {
   "cell_type": "code",
   "execution_count": 5,
   "metadata": {
    "collapsed": false
   },
   "outputs": [],
   "source": [
    "def reloader(path,picklename):\n",
    "    # get list of all xls files in the path\n",
    "    files_xls = get_xls_list(path)\n",
    "    print(\"list of xls\",files_xls)\n",
    "    # seed initial tab on initial xls file\n",
    "    dfnew = pd.read_excel(path+'Streetcar 2014.xlsx')\n",
    "    # load the remaining tabs from all the other xls\n",
    "    dflatest = load_xls(path,files_xls,dfnew)\n",
    "    # save dataframe to pickle\n",
    "    dflatest.to_pickle(\"../'+ picklename\")\n",
    "    # return dataframe loaded with all tabs of all xls files\n",
    "    return(dflastest)\n",
    "    "
   ]
  },
  {
   "cell_type": "markdown",
   "metadata": {},
   "source": [
    "# Load dataframe and add columns for time series manipulation\n",
    "- load pickled dataframe\n",
    "- show info about the dataset\n",
    "- build index combining date+time along with labelled column date+time\n"
   ]
  },
  {
   "cell_type": "code",
   "execution_count": 6,
   "metadata": {
    "collapsed": false
   },
   "outputs": [],
   "source": [
    "# read in previously pickled dataframe containing data from s/s 2014 - 2018\n",
    "unpickled_df = pd.read_pickle(\"../20142018_0930.pkl\")"
   ]
  },
  {
   "cell_type": "code",
   "execution_count": 7,
   "metadata": {
    "collapsed": false
   },
   "outputs": [
    {
     "data": {
      "text/html": [
       "<div>\n",
       "<style>\n",
       "    .dataframe thead tr:only-child th {\n",
       "        text-align: right;\n",
       "    }\n",
       "\n",
       "    .dataframe thead th {\n",
       "        text-align: left;\n",
       "    }\n",
       "\n",
       "    .dataframe tbody tr th {\n",
       "        vertical-align: top;\n",
       "    }\n",
       "</style>\n",
       "<table border=\"1\" class=\"dataframe\">\n",
       "  <thead>\n",
       "    <tr style=\"text-align: right;\">\n",
       "      <th></th>\n",
       "      <th>Report Date</th>\n",
       "      <th>Route</th>\n",
       "      <th>Time</th>\n",
       "      <th>Day</th>\n",
       "      <th>Location</th>\n",
       "      <th>Incident</th>\n",
       "      <th>Min Delay</th>\n",
       "      <th>Min Gap</th>\n",
       "      <th>Direction</th>\n",
       "      <th>Vehicle</th>\n",
       "    </tr>\n",
       "  </thead>\n",
       "  <tbody>\n",
       "    <tr>\n",
       "      <th>0</th>\n",
       "      <td>2014-01-02</td>\n",
       "      <td>505</td>\n",
       "      <td>06:31:00</td>\n",
       "      <td>Thursday</td>\n",
       "      <td>Dundas and Roncesvalles</td>\n",
       "      <td>Late Leaving Garage</td>\n",
       "      <td>4.0</td>\n",
       "      <td>8.0</td>\n",
       "      <td>E/B</td>\n",
       "      <td>4018.0</td>\n",
       "    </tr>\n",
       "    <tr>\n",
       "      <th>1</th>\n",
       "      <td>2014-01-02</td>\n",
       "      <td>504</td>\n",
       "      <td>12:43:00</td>\n",
       "      <td>Thursday</td>\n",
       "      <td>King and Shaw</td>\n",
       "      <td>Utilized Off Route</td>\n",
       "      <td>20.0</td>\n",
       "      <td>22.0</td>\n",
       "      <td>E/B</td>\n",
       "      <td>4128.0</td>\n",
       "    </tr>\n",
       "    <tr>\n",
       "      <th>2</th>\n",
       "      <td>2014-01-02</td>\n",
       "      <td>501</td>\n",
       "      <td>14:01:00</td>\n",
       "      <td>Thursday</td>\n",
       "      <td>Kingston road and Bingham</td>\n",
       "      <td>Held By</td>\n",
       "      <td>13.0</td>\n",
       "      <td>19.0</td>\n",
       "      <td>W/B</td>\n",
       "      <td>4016.0</td>\n",
       "    </tr>\n",
       "    <tr>\n",
       "      <th>3</th>\n",
       "      <td>2014-01-02</td>\n",
       "      <td>504</td>\n",
       "      <td>14:22:00</td>\n",
       "      <td>Thursday</td>\n",
       "      <td>King St. and Roncesvalles Ave.</td>\n",
       "      <td>Investigation</td>\n",
       "      <td>7.0</td>\n",
       "      <td>11.0</td>\n",
       "      <td>W/B</td>\n",
       "      <td>4175.0</td>\n",
       "    </tr>\n",
       "    <tr>\n",
       "      <th>4</th>\n",
       "      <td>2014-01-02</td>\n",
       "      <td>504</td>\n",
       "      <td>16:42:00</td>\n",
       "      <td>Thursday</td>\n",
       "      <td>King and Bathurst</td>\n",
       "      <td>Utilized Off Route</td>\n",
       "      <td>3.0</td>\n",
       "      <td>6.0</td>\n",
       "      <td>E/B</td>\n",
       "      <td>4080.0</td>\n",
       "    </tr>\n",
       "  </tbody>\n",
       "</table>\n",
       "</div>"
      ],
      "text/plain": [
       "  Report Date  Route      Time       Day                        Location  \\\n",
       "0  2014-01-02    505  06:31:00  Thursday         Dundas and Roncesvalles   \n",
       "1  2014-01-02    504  12:43:00  Thursday                   King and Shaw   \n",
       "2  2014-01-02    501  14:01:00  Thursday       Kingston road and Bingham   \n",
       "3  2014-01-02    504  14:22:00  Thursday  King St. and Roncesvalles Ave.   \n",
       "4  2014-01-02    504  16:42:00  Thursday               King and Bathurst   \n",
       "\n",
       "              Incident  Min Delay  Min Gap Direction  Vehicle  \n",
       "0  Late Leaving Garage        4.0      8.0       E/B   4018.0  \n",
       "1   Utilized Off Route       20.0     22.0       E/B   4128.0  \n",
       "2              Held By       13.0     19.0       W/B   4016.0  \n",
       "3        Investigation        7.0     11.0       W/B   4175.0  \n",
       "4   Utilized Off Route        3.0      6.0       E/B   4080.0  "
      ]
     },
     "execution_count": 7,
     "metadata": {},
     "output_type": "execute_result"
    }
   ],
   "source": [
    "unpickled_df.head()"
   ]
  },
  {
   "cell_type": "code",
   "execution_count": 8,
   "metadata": {
    "collapsed": false
   },
   "outputs": [
    {
     "data": {
      "text/plain": [
       "(60717, 10)"
      ]
     },
     "execution_count": 8,
     "metadata": {},
     "output_type": "execute_result"
    }
   ],
   "source": [
    "unpickled_df.shape"
   ]
  },
  {
   "cell_type": "code",
   "execution_count": 9,
   "metadata": {
    "collapsed": false
   },
   "outputs": [
    {
     "data": {
      "text/html": [
       "<div>\n",
       "<style>\n",
       "    .dataframe thead tr:only-child th {\n",
       "        text-align: right;\n",
       "    }\n",
       "\n",
       "    .dataframe thead th {\n",
       "        text-align: left;\n",
       "    }\n",
       "\n",
       "    .dataframe tbody tr th {\n",
       "        vertical-align: top;\n",
       "    }\n",
       "</style>\n",
       "<table border=\"1\" class=\"dataframe\">\n",
       "  <thead>\n",
       "    <tr style=\"text-align: right;\">\n",
       "      <th></th>\n",
       "      <th>Report Date</th>\n",
       "      <th>Route</th>\n",
       "      <th>Time</th>\n",
       "      <th>Day</th>\n",
       "      <th>Location</th>\n",
       "      <th>Incident</th>\n",
       "      <th>Min Delay</th>\n",
       "      <th>Min Gap</th>\n",
       "      <th>Direction</th>\n",
       "      <th>Vehicle</th>\n",
       "    </tr>\n",
       "  </thead>\n",
       "  <tbody>\n",
       "    <tr>\n",
       "      <th>1693</th>\n",
       "      <td>2017-12-31</td>\n",
       "      <td>501</td>\n",
       "      <td>19:58:00</td>\n",
       "      <td>Sunday</td>\n",
       "      <td>Queen</td>\n",
       "      <td>General Delay</td>\n",
       "      <td>7.0</td>\n",
       "      <td>15.0</td>\n",
       "      <td>B/W</td>\n",
       "      <td>NaN</td>\n",
       "    </tr>\n",
       "    <tr>\n",
       "      <th>1694</th>\n",
       "      <td>2017-12-31</td>\n",
       "      <td>501</td>\n",
       "      <td>21:15:00</td>\n",
       "      <td>Sunday</td>\n",
       "      <td>Queen and Neville park</td>\n",
       "      <td>Mechanical</td>\n",
       "      <td>12.0</td>\n",
       "      <td>24.0</td>\n",
       "      <td>W/B</td>\n",
       "      <td>4110.0</td>\n",
       "    </tr>\n",
       "    <tr>\n",
       "      <th>1695</th>\n",
       "      <td>2017-12-31</td>\n",
       "      <td>501</td>\n",
       "      <td>21:44:00</td>\n",
       "      <td>Sunday</td>\n",
       "      <td>Queen and Dufferin</td>\n",
       "      <td>Mechanical</td>\n",
       "      <td>12.0</td>\n",
       "      <td>24.0</td>\n",
       "      <td>W/B</td>\n",
       "      <td>1419.0</td>\n",
       "    </tr>\n",
       "    <tr>\n",
       "      <th>1696</th>\n",
       "      <td>2017-12-31</td>\n",
       "      <td>510</td>\n",
       "      <td>22:15:00</td>\n",
       "      <td>Sunday</td>\n",
       "      <td>Spadina and King</td>\n",
       "      <td>Mechanical</td>\n",
       "      <td>5.0</td>\n",
       "      <td>10.0</td>\n",
       "      <td>S/B</td>\n",
       "      <td>4447.0</td>\n",
       "    </tr>\n",
       "    <tr>\n",
       "      <th>1697</th>\n",
       "      <td>2017-12-31</td>\n",
       "      <td>505</td>\n",
       "      <td>22:30:00</td>\n",
       "      <td>Sunday</td>\n",
       "      <td>Broadview and Gerrard</td>\n",
       "      <td>Mechanical</td>\n",
       "      <td>8.0</td>\n",
       "      <td>16.0</td>\n",
       "      <td>N/B</td>\n",
       "      <td>4167.0</td>\n",
       "    </tr>\n",
       "  </tbody>\n",
       "</table>\n",
       "</div>"
      ],
      "text/plain": [
       "     Report Date  Route      Time     Day                Location  \\\n",
       "1693  2017-12-31    501  19:58:00  Sunday                   Queen   \n",
       "1694  2017-12-31    501  21:15:00  Sunday  Queen and Neville park   \n",
       "1695  2017-12-31    501  21:44:00  Sunday      Queen and Dufferin   \n",
       "1696  2017-12-31    510  22:15:00  Sunday        Spadina and King   \n",
       "1697  2017-12-31    505  22:30:00  Sunday   Broadview and Gerrard   \n",
       "\n",
       "           Incident  Min Delay  Min Gap Direction  Vehicle  \n",
       "1693  General Delay        7.0     15.0       B/W      NaN  \n",
       "1694     Mechanical       12.0     24.0       W/B   4110.0  \n",
       "1695     Mechanical       12.0     24.0       W/B   1419.0  \n",
       "1696     Mechanical        5.0     10.0       S/B   4447.0  \n",
       "1697     Mechanical        8.0     16.0       N/B   4167.0  "
      ]
     },
     "execution_count": 9,
     "metadata": {},
     "output_type": "execute_result"
    }
   ],
   "source": [
    "unpickled_df.tail()"
   ]
  },
  {
   "cell_type": "code",
   "execution_count": 10,
   "metadata": {
    "collapsed": false
   },
   "outputs": [
    {
     "data": {
      "text/html": [
       "<div>\n",
       "<style>\n",
       "    .dataframe thead tr:only-child th {\n",
       "        text-align: right;\n",
       "    }\n",
       "\n",
       "    .dataframe thead th {\n",
       "        text-align: left;\n",
       "    }\n",
       "\n",
       "    .dataframe tbody tr th {\n",
       "        vertical-align: top;\n",
       "    }\n",
       "</style>\n",
       "<table border=\"1\" class=\"dataframe\">\n",
       "  <thead>\n",
       "    <tr style=\"text-align: right;\">\n",
       "      <th></th>\n",
       "      <th>Report Date</th>\n",
       "      <th>Route</th>\n",
       "      <th>Time</th>\n",
       "      <th>Day</th>\n",
       "      <th>Location</th>\n",
       "      <th>Incident</th>\n",
       "      <th>Min Delay</th>\n",
       "      <th>Min Gap</th>\n",
       "      <th>Direction</th>\n",
       "      <th>Vehicle</th>\n",
       "    </tr>\n",
       "  </thead>\n",
       "  <tbody>\n",
       "    <tr>\n",
       "      <th>0</th>\n",
       "      <td>2014-01-02</td>\n",
       "      <td>505</td>\n",
       "      <td>06:31:00</td>\n",
       "      <td>Thursday</td>\n",
       "      <td>Dundas and Roncesvalles</td>\n",
       "      <td>Late Leaving Garage</td>\n",
       "      <td>4.0</td>\n",
       "      <td>8.0</td>\n",
       "      <td>E/B</td>\n",
       "      <td>4018.0</td>\n",
       "    </tr>\n",
       "    <tr>\n",
       "      <th>1</th>\n",
       "      <td>2014-01-02</td>\n",
       "      <td>504</td>\n",
       "      <td>12:43:00</td>\n",
       "      <td>Thursday</td>\n",
       "      <td>King and Shaw</td>\n",
       "      <td>Utilized Off Route</td>\n",
       "      <td>20.0</td>\n",
       "      <td>22.0</td>\n",
       "      <td>E/B</td>\n",
       "      <td>4128.0</td>\n",
       "    </tr>\n",
       "    <tr>\n",
       "      <th>2</th>\n",
       "      <td>2014-01-02</td>\n",
       "      <td>501</td>\n",
       "      <td>14:01:00</td>\n",
       "      <td>Thursday</td>\n",
       "      <td>Kingston road and Bingham</td>\n",
       "      <td>Held By</td>\n",
       "      <td>13.0</td>\n",
       "      <td>19.0</td>\n",
       "      <td>W/B</td>\n",
       "      <td>4016.0</td>\n",
       "    </tr>\n",
       "    <tr>\n",
       "      <th>3</th>\n",
       "      <td>2014-01-02</td>\n",
       "      <td>504</td>\n",
       "      <td>14:22:00</td>\n",
       "      <td>Thursday</td>\n",
       "      <td>King St. and Roncesvalles Ave.</td>\n",
       "      <td>Investigation</td>\n",
       "      <td>7.0</td>\n",
       "      <td>11.0</td>\n",
       "      <td>W/B</td>\n",
       "      <td>4175.0</td>\n",
       "    </tr>\n",
       "    <tr>\n",
       "      <th>4</th>\n",
       "      <td>2014-01-02</td>\n",
       "      <td>504</td>\n",
       "      <td>16:42:00</td>\n",
       "      <td>Thursday</td>\n",
       "      <td>King and Bathurst</td>\n",
       "      <td>Utilized Off Route</td>\n",
       "      <td>3.0</td>\n",
       "      <td>6.0</td>\n",
       "      <td>E/B</td>\n",
       "      <td>4080.0</td>\n",
       "    </tr>\n",
       "  </tbody>\n",
       "</table>\n",
       "</div>"
      ],
      "text/plain": [
       "  Report Date  Route      Time       Day                        Location  \\\n",
       "0  2014-01-02    505  06:31:00  Thursday         Dundas and Roncesvalles   \n",
       "1  2014-01-02    504  12:43:00  Thursday                   King and Shaw   \n",
       "2  2014-01-02    501  14:01:00  Thursday       Kingston road and Bingham   \n",
       "3  2014-01-02    504  14:22:00  Thursday  King St. and Roncesvalles Ave.   \n",
       "4  2014-01-02    504  16:42:00  Thursday               King and Bathurst   \n",
       "\n",
       "              Incident  Min Delay  Min Gap Direction  Vehicle  \n",
       "0  Late Leaving Garage        4.0      8.0       E/B   4018.0  \n",
       "1   Utilized Off Route       20.0     22.0       E/B   4128.0  \n",
       "2              Held By       13.0     19.0       W/B   4016.0  \n",
       "3        Investigation        7.0     11.0       W/B   4175.0  \n",
       "4   Utilized Off Route        3.0      6.0       E/B   4080.0  "
      ]
     },
     "execution_count": 10,
     "metadata": {},
     "output_type": "execute_result"
    }
   ],
   "source": [
    "df = unpickled_df\n",
    "df.head()"
   ]
  },
  {
   "cell_type": "code",
   "execution_count": 11,
   "metadata": {
    "collapsed": false
   },
   "outputs": [
    {
     "name": "stdout",
     "output_type": "stream",
     "text": [
      "<class 'pandas.core.frame.DataFrame'>\n",
      "Int64Index: 60717 entries, 0 to 1697\n",
      "Data columns (total 10 columns):\n",
      "Report Date    60717 non-null datetime64[ns]\n",
      "Route          60717 non-null int64\n",
      "Time           60717 non-null object\n",
      "Day            60717 non-null object\n",
      "Location       60507 non-null object\n",
      "Incident       60717 non-null object\n",
      "Min Delay      60699 non-null float64\n",
      "Min Gap        60699 non-null float64\n",
      "Direction      60560 non-null object\n",
      "Vehicle        56484 non-null float64\n",
      "dtypes: datetime64[ns](1), float64(3), int64(1), object(5)\n",
      "memory usage: 5.1+ MB\n"
     ]
    }
   ],
   "source": [
    "# getting some information about dataset\n",
    "df.info()"
   ]
  },
  {
   "cell_type": "code",
   "execution_count": 12,
   "metadata": {
    "collapsed": false
   },
   "outputs": [
    {
     "data": {
      "text/plain": [
       "(60717, 10)"
      ]
     },
     "execution_count": 12,
     "metadata": {},
     "output_type": "execute_result"
    }
   ],
   "source": [
    "# getting some information about dataset\n",
    "df.shape"
   ]
  },
  {
   "cell_type": "code",
   "execution_count": 13,
   "metadata": {
    "collapsed": false
   },
   "outputs": [
    {
     "data": {
      "text/html": [
       "<div>\n",
       "<style>\n",
       "    .dataframe thead tr:only-child th {\n",
       "        text-align: right;\n",
       "    }\n",
       "\n",
       "    .dataframe thead th {\n",
       "        text-align: left;\n",
       "    }\n",
       "\n",
       "    .dataframe tbody tr th {\n",
       "        vertical-align: top;\n",
       "    }\n",
       "</style>\n",
       "<table border=\"1\" class=\"dataframe\">\n",
       "  <thead>\n",
       "    <tr style=\"text-align: right;\">\n",
       "      <th></th>\n",
       "      <th>Route</th>\n",
       "      <th>Min Delay</th>\n",
       "      <th>Min Gap</th>\n",
       "      <th>Vehicle</th>\n",
       "    </tr>\n",
       "  </thead>\n",
       "  <tbody>\n",
       "    <tr>\n",
       "      <th>count</th>\n",
       "      <td>60717.000000</td>\n",
       "      <td>60699.000000</td>\n",
       "      <td>60699.000000</td>\n",
       "      <td>56484.000000</td>\n",
       "    </tr>\n",
       "    <tr>\n",
       "      <th>mean</th>\n",
       "      <td>501.115042</td>\n",
       "      <td>12.775664</td>\n",
       "      <td>18.227879</td>\n",
       "      <td>4360.431273</td>\n",
       "    </tr>\n",
       "    <tr>\n",
       "      <th>std</th>\n",
       "      <td>41.746424</td>\n",
       "      <td>30.189318</td>\n",
       "      <td>34.508445</td>\n",
       "      <td>1521.572998</td>\n",
       "    </tr>\n",
       "    <tr>\n",
       "      <th>min</th>\n",
       "      <td>1.000000</td>\n",
       "      <td>0.000000</td>\n",
       "      <td>0.000000</td>\n",
       "      <td>0.000000</td>\n",
       "    </tr>\n",
       "    <tr>\n",
       "      <th>25%</th>\n",
       "      <td>501.000000</td>\n",
       "      <td>5.000000</td>\n",
       "      <td>9.000000</td>\n",
       "      <td>4072.750000</td>\n",
       "    </tr>\n",
       "    <tr>\n",
       "      <th>50%</th>\n",
       "      <td>505.000000</td>\n",
       "      <td>6.000000</td>\n",
       "      <td>12.000000</td>\n",
       "      <td>4154.000000</td>\n",
       "    </tr>\n",
       "    <tr>\n",
       "      <th>75%</th>\n",
       "      <td>509.000000</td>\n",
       "      <td>12.000000</td>\n",
       "      <td>20.000000</td>\n",
       "      <td>4234.000000</td>\n",
       "    </tr>\n",
       "    <tr>\n",
       "      <th>max</th>\n",
       "      <td>999.000000</td>\n",
       "      <td>1400.000000</td>\n",
       "      <td>4216.000000</td>\n",
       "      <td>163242.000000</td>\n",
       "    </tr>\n",
       "  </tbody>\n",
       "</table>\n",
       "</div>"
      ],
      "text/plain": [
       "              Route     Min Delay       Min Gap        Vehicle\n",
       "count  60717.000000  60699.000000  60699.000000   56484.000000\n",
       "mean     501.115042     12.775664     18.227879    4360.431273\n",
       "std       41.746424     30.189318     34.508445    1521.572998\n",
       "min        1.000000      0.000000      0.000000       0.000000\n",
       "25%      501.000000      5.000000      9.000000    4072.750000\n",
       "50%      505.000000      6.000000     12.000000    4154.000000\n",
       "75%      509.000000     12.000000     20.000000    4234.000000\n",
       "max      999.000000   1400.000000   4216.000000  163242.000000"
      ]
     },
     "execution_count": 13,
     "metadata": {},
     "output_type": "execute_result"
    }
   ],
   "source": [
    "# further Analysis \n",
    "df.describe()"
   ]
  },
  {
   "cell_type": "code",
   "execution_count": 14,
   "metadata": {
    "collapsed": false
   },
   "outputs": [
    {
     "data": {
      "text/plain": [
       "Report Date    datetime64[ns]\n",
       "Route                   int64\n",
       "Time                   object\n",
       "Day                    object\n",
       "Location               object\n",
       "Incident               object\n",
       "Min Delay             float64\n",
       "Min Gap               float64\n",
       "Direction              object\n",
       "Vehicle               float64\n",
       "dtype: object"
      ]
     },
     "execution_count": 14,
     "metadata": {},
     "output_type": "execute_result"
    }
   ],
   "source": [
    "df.dtypes"
   ]
  },
  {
   "cell_type": "code",
   "execution_count": 15,
   "metadata": {
    "collapsed": false
   },
   "outputs": [
    {
     "data": {
      "text/html": [
       "<div>\n",
       "<style>\n",
       "    .dataframe thead tr:only-child th {\n",
       "        text-align: right;\n",
       "    }\n",
       "\n",
       "    .dataframe thead th {\n",
       "        text-align: left;\n",
       "    }\n",
       "\n",
       "    .dataframe tbody tr th {\n",
       "        vertical-align: top;\n",
       "    }\n",
       "</style>\n",
       "<table border=\"1\" class=\"dataframe\">\n",
       "  <thead>\n",
       "    <tr style=\"text-align: right;\">\n",
       "      <th></th>\n",
       "      <th>Report Date</th>\n",
       "      <th>Route</th>\n",
       "      <th>Time</th>\n",
       "      <th>Day</th>\n",
       "      <th>Location</th>\n",
       "      <th>Incident</th>\n",
       "      <th>Min Delay</th>\n",
       "      <th>Min Gap</th>\n",
       "      <th>Direction</th>\n",
       "      <th>Vehicle</th>\n",
       "      <th>Report Date Time</th>\n",
       "    </tr>\n",
       "    <tr>\n",
       "      <th>Report Date Time</th>\n",
       "      <th></th>\n",
       "      <th></th>\n",
       "      <th></th>\n",
       "      <th></th>\n",
       "      <th></th>\n",
       "      <th></th>\n",
       "      <th></th>\n",
       "      <th></th>\n",
       "      <th></th>\n",
       "      <th></th>\n",
       "      <th></th>\n",
       "    </tr>\n",
       "  </thead>\n",
       "  <tbody>\n",
       "    <tr>\n",
       "      <th>2014-01-02 06:31:00</th>\n",
       "      <td>2014-01-02</td>\n",
       "      <td>505</td>\n",
       "      <td>06:31:00</td>\n",
       "      <td>Thursday</td>\n",
       "      <td>Dundas and Roncesvalles</td>\n",
       "      <td>Late Leaving Garage</td>\n",
       "      <td>4.0</td>\n",
       "      <td>8.0</td>\n",
       "      <td>E/B</td>\n",
       "      <td>4018.0</td>\n",
       "      <td>2014-01-02 06:31:00</td>\n",
       "    </tr>\n",
       "    <tr>\n",
       "      <th>2014-01-02 12:43:00</th>\n",
       "      <td>2014-01-02</td>\n",
       "      <td>504</td>\n",
       "      <td>12:43:00</td>\n",
       "      <td>Thursday</td>\n",
       "      <td>King and Shaw</td>\n",
       "      <td>Utilized Off Route</td>\n",
       "      <td>20.0</td>\n",
       "      <td>22.0</td>\n",
       "      <td>E/B</td>\n",
       "      <td>4128.0</td>\n",
       "      <td>2014-01-02 12:43:00</td>\n",
       "    </tr>\n",
       "    <tr>\n",
       "      <th>2014-01-02 14:01:00</th>\n",
       "      <td>2014-01-02</td>\n",
       "      <td>501</td>\n",
       "      <td>14:01:00</td>\n",
       "      <td>Thursday</td>\n",
       "      <td>Kingston road and Bingham</td>\n",
       "      <td>Held By</td>\n",
       "      <td>13.0</td>\n",
       "      <td>19.0</td>\n",
       "      <td>W/B</td>\n",
       "      <td>4016.0</td>\n",
       "      <td>2014-01-02 14:01:00</td>\n",
       "    </tr>\n",
       "    <tr>\n",
       "      <th>2014-01-02 14:22:00</th>\n",
       "      <td>2014-01-02</td>\n",
       "      <td>504</td>\n",
       "      <td>14:22:00</td>\n",
       "      <td>Thursday</td>\n",
       "      <td>King St. and Roncesvalles Ave.</td>\n",
       "      <td>Investigation</td>\n",
       "      <td>7.0</td>\n",
       "      <td>11.0</td>\n",
       "      <td>W/B</td>\n",
       "      <td>4175.0</td>\n",
       "      <td>2014-01-02 14:22:00</td>\n",
       "    </tr>\n",
       "    <tr>\n",
       "      <th>2014-01-02 16:42:00</th>\n",
       "      <td>2014-01-02</td>\n",
       "      <td>504</td>\n",
       "      <td>16:42:00</td>\n",
       "      <td>Thursday</td>\n",
       "      <td>King and Bathurst</td>\n",
       "      <td>Utilized Off Route</td>\n",
       "      <td>3.0</td>\n",
       "      <td>6.0</td>\n",
       "      <td>E/B</td>\n",
       "      <td>4080.0</td>\n",
       "      <td>2014-01-02 16:42:00</td>\n",
       "    </tr>\n",
       "  </tbody>\n",
       "</table>\n",
       "</div>"
      ],
      "text/plain": [
       "                    Report Date  Route      Time       Day  \\\n",
       "Report Date Time                                             \n",
       "2014-01-02 06:31:00  2014-01-02    505  06:31:00  Thursday   \n",
       "2014-01-02 12:43:00  2014-01-02    504  12:43:00  Thursday   \n",
       "2014-01-02 14:01:00  2014-01-02    501  14:01:00  Thursday   \n",
       "2014-01-02 14:22:00  2014-01-02    504  14:22:00  Thursday   \n",
       "2014-01-02 16:42:00  2014-01-02    504  16:42:00  Thursday   \n",
       "\n",
       "                                           Location             Incident  \\\n",
       "Report Date Time                                                           \n",
       "2014-01-02 06:31:00         Dundas and Roncesvalles  Late Leaving Garage   \n",
       "2014-01-02 12:43:00                   King and Shaw   Utilized Off Route   \n",
       "2014-01-02 14:01:00       Kingston road and Bingham              Held By   \n",
       "2014-01-02 14:22:00  King St. and Roncesvalles Ave.        Investigation   \n",
       "2014-01-02 16:42:00               King and Bathurst   Utilized Off Route   \n",
       "\n",
       "                     Min Delay  Min Gap Direction  Vehicle    Report Date Time  \n",
       "Report Date Time                                                                \n",
       "2014-01-02 06:31:00        4.0      8.0       E/B   4018.0 2014-01-02 06:31:00  \n",
       "2014-01-02 12:43:00       20.0     22.0       E/B   4128.0 2014-01-02 12:43:00  \n",
       "2014-01-02 14:01:00       13.0     19.0       W/B   4016.0 2014-01-02 14:01:00  \n",
       "2014-01-02 14:22:00        7.0     11.0       W/B   4175.0 2014-01-02 14:22:00  \n",
       "2014-01-02 16:42:00        3.0      6.0       E/B   4080.0 2014-01-02 16:42:00  "
      ]
     },
     "execution_count": 15,
     "metadata": {},
     "output_type": "execute_result"
    }
   ],
   "source": [
    "# create new column combing date + time (needed for resampling) and make it the index\n",
    "\n",
    "df['Report Date Time'] = pd.to_datetime(df['Report Date'].astype(str) + ' ' + df['Time'].astype(str))\n",
    "df.index = df['Report Date Time']\n",
    "df.head()"
   ]
  },
  {
   "cell_type": "markdown",
   "metadata": {},
   "source": [
    "# Create dataframes for delay-duration based forecasting\n",
    "- create a dataframe with just index and delay\n",
    "- resample to get mean by month in year"
   ]
  },
  {
   "cell_type": "code",
   "execution_count": 16,
   "metadata": {
    "collapsed": false
   },
   "outputs": [
    {
     "data": {
      "text/html": [
       "<div>\n",
       "<style>\n",
       "    .dataframe thead tr:only-child th {\n",
       "        text-align: right;\n",
       "    }\n",
       "\n",
       "    .dataframe thead th {\n",
       "        text-align: left;\n",
       "    }\n",
       "\n",
       "    .dataframe tbody tr th {\n",
       "        vertical-align: top;\n",
       "    }\n",
       "</style>\n",
       "<table border=\"1\" class=\"dataframe\">\n",
       "  <thead>\n",
       "    <tr style=\"text-align: right;\">\n",
       "      <th></th>\n",
       "      <th>Min Delay</th>\n",
       "    </tr>\n",
       "    <tr>\n",
       "      <th>Report Date Time</th>\n",
       "      <th></th>\n",
       "    </tr>\n",
       "  </thead>\n",
       "  <tbody>\n",
       "    <tr>\n",
       "      <th>2014-01-02 06:31:00</th>\n",
       "      <td>4.0</td>\n",
       "    </tr>\n",
       "    <tr>\n",
       "      <th>2014-01-02 12:43:00</th>\n",
       "      <td>20.0</td>\n",
       "    </tr>\n",
       "    <tr>\n",
       "      <th>2014-01-02 14:01:00</th>\n",
       "      <td>13.0</td>\n",
       "    </tr>\n",
       "    <tr>\n",
       "      <th>2014-01-02 14:22:00</th>\n",
       "      <td>7.0</td>\n",
       "    </tr>\n",
       "    <tr>\n",
       "      <th>2014-01-02 16:42:00</th>\n",
       "      <td>3.0</td>\n",
       "    </tr>\n",
       "  </tbody>\n",
       "</table>\n",
       "</div>"
      ],
      "text/plain": [
       "                     Min Delay\n",
       "Report Date Time              \n",
       "2014-01-02 06:31:00        4.0\n",
       "2014-01-02 12:43:00       20.0\n",
       "2014-01-02 14:01:00       13.0\n",
       "2014-01-02 14:22:00        7.0\n",
       "2014-01-02 16:42:00        3.0"
      ]
     },
     "execution_count": 16,
     "metadata": {},
     "output_type": "execute_result"
    }
   ],
   "source": [
    "# new = old[['A', 'C', 'D']].copy()\n",
    "# new dataframe with just Min Delay column\n",
    "dfstrip = df[['Min Delay']].copy()\n",
    "dfstrip.head()"
   ]
  },
  {
   "cell_type": "code",
   "execution_count": 17,
   "metadata": {
    "collapsed": false
   },
   "outputs": [
    {
     "data": {
      "text/html": [
       "<div>\n",
       "<style>\n",
       "    .dataframe thead tr:only-child th {\n",
       "        text-align: right;\n",
       "    }\n",
       "\n",
       "    .dataframe thead th {\n",
       "        text-align: left;\n",
       "    }\n",
       "\n",
       "    .dataframe tbody tr th {\n",
       "        vertical-align: top;\n",
       "    }\n",
       "</style>\n",
       "<table border=\"1\" class=\"dataframe\">\n",
       "  <thead>\n",
       "    <tr style=\"text-align: right;\">\n",
       "      <th></th>\n",
       "      <th>Min Delay</th>\n",
       "    </tr>\n",
       "    <tr>\n",
       "      <th>Report Date Time</th>\n",
       "      <th></th>\n",
       "    </tr>\n",
       "  </thead>\n",
       "  <tbody>\n",
       "    <tr>\n",
       "      <th>2014-01-31</th>\n",
       "      <td>7.862069</td>\n",
       "    </tr>\n",
       "    <tr>\n",
       "      <th>2014-02-28</th>\n",
       "      <td>14.117978</td>\n",
       "    </tr>\n",
       "    <tr>\n",
       "      <th>2014-03-31</th>\n",
       "      <td>12.590446</td>\n",
       "    </tr>\n",
       "    <tr>\n",
       "      <th>2014-04-30</th>\n",
       "      <td>12.645763</td>\n",
       "    </tr>\n",
       "    <tr>\n",
       "      <th>2014-05-31</th>\n",
       "      <td>12.280083</td>\n",
       "    </tr>\n",
       "  </tbody>\n",
       "</table>\n",
       "</div>"
      ],
      "text/plain": [
       "                  Min Delay\n",
       "Report Date Time           \n",
       "2014-01-31         7.862069\n",
       "2014-02-28        14.117978\n",
       "2014-03-31        12.590446\n",
       "2014-04-30        12.645763\n",
       "2014-05-31        12.280083"
      ]
     },
     "execution_count": 17,
     "metadata": {},
     "output_type": "execute_result"
    }
   ],
   "source": [
    "dfmonthav = dfstrip.resample('M').mean()\n",
    "dfmonthav.head()"
   ]
  },
  {
   "cell_type": "code",
   "execution_count": 18,
   "metadata": {
    "collapsed": true
   },
   "outputs": [],
   "source": [
    "# df3['new'] = df3.index\n",
    "dfmonthav['Report Date Time'] = dfmonthav.index"
   ]
  },
  {
   "cell_type": "code",
   "execution_count": 19,
   "metadata": {
    "collapsed": false
   },
   "outputs": [
    {
     "data": {
      "text/html": [
       "<div>\n",
       "<style>\n",
       "    .dataframe thead tr:only-child th {\n",
       "        text-align: right;\n",
       "    }\n",
       "\n",
       "    .dataframe thead th {\n",
       "        text-align: left;\n",
       "    }\n",
       "\n",
       "    .dataframe tbody tr th {\n",
       "        vertical-align: top;\n",
       "    }\n",
       "</style>\n",
       "<table border=\"1\" class=\"dataframe\">\n",
       "  <thead>\n",
       "    <tr style=\"text-align: right;\">\n",
       "      <th></th>\n",
       "      <th>Min Delay</th>\n",
       "      <th>Report Date Time</th>\n",
       "    </tr>\n",
       "    <tr>\n",
       "      <th>Report Date Time</th>\n",
       "      <th></th>\n",
       "      <th></th>\n",
       "    </tr>\n",
       "  </thead>\n",
       "  <tbody>\n",
       "    <tr>\n",
       "      <th>2018-03-31</th>\n",
       "      <td>15.063849</td>\n",
       "      <td>2018-03-31</td>\n",
       "    </tr>\n",
       "    <tr>\n",
       "      <th>2018-04-30</th>\n",
       "      <td>10.744763</td>\n",
       "      <td>2018-04-30</td>\n",
       "    </tr>\n",
       "    <tr>\n",
       "      <th>2018-05-31</th>\n",
       "      <td>9.803109</td>\n",
       "      <td>2018-05-31</td>\n",
       "    </tr>\n",
       "    <tr>\n",
       "      <th>2018-06-30</th>\n",
       "      <td>9.772414</td>\n",
       "      <td>2018-06-30</td>\n",
       "    </tr>\n",
       "    <tr>\n",
       "      <th>2018-07-31</th>\n",
       "      <td>11.716491</td>\n",
       "      <td>2018-07-31</td>\n",
       "    </tr>\n",
       "  </tbody>\n",
       "</table>\n",
       "</div>"
      ],
      "text/plain": [
       "                  Min Delay Report Date Time\n",
       "Report Date Time                            \n",
       "2018-03-31        15.063849       2018-03-31\n",
       "2018-04-30        10.744763       2018-04-30\n",
       "2018-05-31         9.803109       2018-05-31\n",
       "2018-06-30         9.772414       2018-06-30\n",
       "2018-07-31        11.716491       2018-07-31"
      ]
     },
     "execution_count": 19,
     "metadata": {},
     "output_type": "execute_result"
    }
   ],
   "source": [
    "dfmonthav.tail()"
   ]
  },
  {
   "cell_type": "markdown",
   "metadata": {},
   "source": [
    "# Create dataframe for delay count based forecasting\n"
   ]
  },
  {
   "cell_type": "code",
   "execution_count": 20,
   "metadata": {
    "collapsed": false
   },
   "outputs": [
    {
     "data": {
      "text/html": [
       "<div>\n",
       "<style>\n",
       "    .dataframe thead tr:only-child th {\n",
       "        text-align: right;\n",
       "    }\n",
       "\n",
       "    .dataframe thead th {\n",
       "        text-align: left;\n",
       "    }\n",
       "\n",
       "    .dataframe tbody tr th {\n",
       "        vertical-align: top;\n",
       "    }\n",
       "</style>\n",
       "<table border=\"1\" class=\"dataframe\">\n",
       "  <thead>\n",
       "    <tr style=\"text-align: right;\">\n",
       "      <th></th>\n",
       "      <th>Report Date</th>\n",
       "      <th>Route</th>\n",
       "      <th>Time</th>\n",
       "      <th>Day</th>\n",
       "      <th>Location</th>\n",
       "      <th>Incident</th>\n",
       "      <th>Min Delay</th>\n",
       "      <th>Min Gap</th>\n",
       "      <th>Direction</th>\n",
       "      <th>Vehicle</th>\n",
       "      <th>Report Date Time</th>\n",
       "    </tr>\n",
       "    <tr>\n",
       "      <th>Report Date Time</th>\n",
       "      <th></th>\n",
       "      <th></th>\n",
       "      <th></th>\n",
       "      <th></th>\n",
       "      <th></th>\n",
       "      <th></th>\n",
       "      <th></th>\n",
       "      <th></th>\n",
       "      <th></th>\n",
       "      <th></th>\n",
       "      <th></th>\n",
       "    </tr>\n",
       "  </thead>\n",
       "  <tbody>\n",
       "    <tr>\n",
       "      <th>2014-01-02 06:31:00</th>\n",
       "      <td>2014-01-02</td>\n",
       "      <td>505</td>\n",
       "      <td>06:31:00</td>\n",
       "      <td>Thursday</td>\n",
       "      <td>Dundas and Roncesvalles</td>\n",
       "      <td>Late Leaving Garage</td>\n",
       "      <td>4.0</td>\n",
       "      <td>8.0</td>\n",
       "      <td>E/B</td>\n",
       "      <td>4018.0</td>\n",
       "      <td>2014-01-02 06:31:00</td>\n",
       "    </tr>\n",
       "    <tr>\n",
       "      <th>2014-01-02 12:43:00</th>\n",
       "      <td>2014-01-02</td>\n",
       "      <td>504</td>\n",
       "      <td>12:43:00</td>\n",
       "      <td>Thursday</td>\n",
       "      <td>King and Shaw</td>\n",
       "      <td>Utilized Off Route</td>\n",
       "      <td>20.0</td>\n",
       "      <td>22.0</td>\n",
       "      <td>E/B</td>\n",
       "      <td>4128.0</td>\n",
       "      <td>2014-01-02 12:43:00</td>\n",
       "    </tr>\n",
       "    <tr>\n",
       "      <th>2014-01-02 14:01:00</th>\n",
       "      <td>2014-01-02</td>\n",
       "      <td>501</td>\n",
       "      <td>14:01:00</td>\n",
       "      <td>Thursday</td>\n",
       "      <td>Kingston road and Bingham</td>\n",
       "      <td>Held By</td>\n",
       "      <td>13.0</td>\n",
       "      <td>19.0</td>\n",
       "      <td>W/B</td>\n",
       "      <td>4016.0</td>\n",
       "      <td>2014-01-02 14:01:00</td>\n",
       "    </tr>\n",
       "    <tr>\n",
       "      <th>2014-01-02 14:22:00</th>\n",
       "      <td>2014-01-02</td>\n",
       "      <td>504</td>\n",
       "      <td>14:22:00</td>\n",
       "      <td>Thursday</td>\n",
       "      <td>King St. and Roncesvalles Ave.</td>\n",
       "      <td>Investigation</td>\n",
       "      <td>7.0</td>\n",
       "      <td>11.0</td>\n",
       "      <td>W/B</td>\n",
       "      <td>4175.0</td>\n",
       "      <td>2014-01-02 14:22:00</td>\n",
       "    </tr>\n",
       "    <tr>\n",
       "      <th>2014-01-02 16:42:00</th>\n",
       "      <td>2014-01-02</td>\n",
       "      <td>504</td>\n",
       "      <td>16:42:00</td>\n",
       "      <td>Thursday</td>\n",
       "      <td>King and Bathurst</td>\n",
       "      <td>Utilized Off Route</td>\n",
       "      <td>3.0</td>\n",
       "      <td>6.0</td>\n",
       "      <td>E/B</td>\n",
       "      <td>4080.0</td>\n",
       "      <td>2014-01-02 16:42:00</td>\n",
       "    </tr>\n",
       "  </tbody>\n",
       "</table>\n",
       "</div>"
      ],
      "text/plain": [
       "                    Report Date  Route      Time       Day  \\\n",
       "Report Date Time                                             \n",
       "2014-01-02 06:31:00  2014-01-02    505  06:31:00  Thursday   \n",
       "2014-01-02 12:43:00  2014-01-02    504  12:43:00  Thursday   \n",
       "2014-01-02 14:01:00  2014-01-02    501  14:01:00  Thursday   \n",
       "2014-01-02 14:22:00  2014-01-02    504  14:22:00  Thursday   \n",
       "2014-01-02 16:42:00  2014-01-02    504  16:42:00  Thursday   \n",
       "\n",
       "                                           Location             Incident  \\\n",
       "Report Date Time                                                           \n",
       "2014-01-02 06:31:00         Dundas and Roncesvalles  Late Leaving Garage   \n",
       "2014-01-02 12:43:00                   King and Shaw   Utilized Off Route   \n",
       "2014-01-02 14:01:00       Kingston road and Bingham              Held By   \n",
       "2014-01-02 14:22:00  King St. and Roncesvalles Ave.        Investigation   \n",
       "2014-01-02 16:42:00               King and Bathurst   Utilized Off Route   \n",
       "\n",
       "                     Min Delay  Min Gap Direction  Vehicle    Report Date Time  \n",
       "Report Date Time                                                                \n",
       "2014-01-02 06:31:00        4.0      8.0       E/B   4018.0 2014-01-02 06:31:00  \n",
       "2014-01-02 12:43:00       20.0     22.0       E/B   4128.0 2014-01-02 12:43:00  \n",
       "2014-01-02 14:01:00       13.0     19.0       W/B   4016.0 2014-01-02 14:01:00  \n",
       "2014-01-02 14:22:00        7.0     11.0       W/B   4175.0 2014-01-02 14:22:00  \n",
       "2014-01-02 16:42:00        3.0      6.0       E/B   4080.0 2014-01-02 16:42:00  "
      ]
     },
     "execution_count": 20,
     "metadata": {},
     "output_type": "execute_result"
    }
   ],
   "source": [
    "df.head()"
   ]
  },
  {
   "cell_type": "code",
   "execution_count": 21,
   "metadata": {
    "collapsed": false
   },
   "outputs": [
    {
     "data": {
      "text/html": [
       "<div>\n",
       "<style>\n",
       "    .dataframe thead tr:only-child th {\n",
       "        text-align: right;\n",
       "    }\n",
       "\n",
       "    .dataframe thead th {\n",
       "        text-align: left;\n",
       "    }\n",
       "\n",
       "    .dataframe tbody tr th {\n",
       "        vertical-align: top;\n",
       "    }\n",
       "</style>\n",
       "<table border=\"1\" class=\"dataframe\">\n",
       "  <thead>\n",
       "    <tr style=\"text-align: right;\">\n",
       "      <th></th>\n",
       "      <th>Min Delay</th>\n",
       "    </tr>\n",
       "    <tr>\n",
       "      <th>Report Date Time</th>\n",
       "      <th></th>\n",
       "    </tr>\n",
       "  </thead>\n",
       "  <tbody>\n",
       "    <tr>\n",
       "      <th>2014-01-02 06:31:00</th>\n",
       "      <td>4.0</td>\n",
       "    </tr>\n",
       "    <tr>\n",
       "      <th>2014-01-02 12:43:00</th>\n",
       "      <td>20.0</td>\n",
       "    </tr>\n",
       "    <tr>\n",
       "      <th>2014-01-02 14:01:00</th>\n",
       "      <td>13.0</td>\n",
       "    </tr>\n",
       "    <tr>\n",
       "      <th>2014-01-02 14:22:00</th>\n",
       "      <td>7.0</td>\n",
       "    </tr>\n",
       "    <tr>\n",
       "      <th>2014-01-02 16:42:00</th>\n",
       "      <td>3.0</td>\n",
       "    </tr>\n",
       "  </tbody>\n",
       "</table>\n",
       "</div>"
      ],
      "text/plain": [
       "                     Min Delay\n",
       "Report Date Time              \n",
       "2014-01-02 06:31:00        4.0\n",
       "2014-01-02 12:43:00       20.0\n",
       "2014-01-02 14:01:00       13.0\n",
       "2014-01-02 14:22:00        7.0\n",
       "2014-01-02 16:42:00        3.0"
      ]
     },
     "execution_count": 21,
     "metadata": {},
     "output_type": "execute_result"
    }
   ],
   "source": [
    "dfstrip.head()"
   ]
  },
  {
   "cell_type": "code",
   "execution_count": 22,
   "metadata": {
    "collapsed": false
   },
   "outputs": [
    {
     "data": {
      "text/html": [
       "<div>\n",
       "<style>\n",
       "    .dataframe thead tr:only-child th {\n",
       "        text-align: right;\n",
       "    }\n",
       "\n",
       "    .dataframe thead th {\n",
       "        text-align: left;\n",
       "    }\n",
       "\n",
       "    .dataframe tbody tr th {\n",
       "        vertical-align: top;\n",
       "    }\n",
       "</style>\n",
       "<table border=\"1\" class=\"dataframe\">\n",
       "  <thead>\n",
       "    <tr style=\"text-align: right;\">\n",
       "      <th></th>\n",
       "      <th>Delay Count</th>\n",
       "    </tr>\n",
       "    <tr>\n",
       "      <th>Report Date Time</th>\n",
       "      <th></th>\n",
       "    </tr>\n",
       "  </thead>\n",
       "  <tbody>\n",
       "    <tr>\n",
       "      <th>2014-01-31</th>\n",
       "      <td>319</td>\n",
       "    </tr>\n",
       "    <tr>\n",
       "      <th>2014-02-28</th>\n",
       "      <td>178</td>\n",
       "    </tr>\n",
       "    <tr>\n",
       "      <th>2014-03-31</th>\n",
       "      <td>1277</td>\n",
       "    </tr>\n",
       "    <tr>\n",
       "      <th>2014-04-30</th>\n",
       "      <td>1180</td>\n",
       "    </tr>\n",
       "    <tr>\n",
       "      <th>2014-05-31</th>\n",
       "      <td>964</td>\n",
       "    </tr>\n",
       "  </tbody>\n",
       "</table>\n",
       "</div>"
      ],
      "text/plain": [
       "                  Delay Count\n",
       "Report Date Time             \n",
       "2014-01-31                319\n",
       "2014-02-28                178\n",
       "2014-03-31               1277\n",
       "2014-04-30               1180\n",
       "2014-05-31                964"
      ]
     },
     "execution_count": 22,
     "metadata": {},
     "output_type": "execute_result"
    }
   ],
   "source": [
    "dfmonthcount = dfstrip.resample('M').count()\n",
    "# df = df.rename(columns={'oldName1': 'newName1', 'oldName2': 'newName2'})\n",
    "dfmonthcount = dfmonthcount.rename(columns={'Min Delay':'Delay Count'})\n",
    "dfmonthcount.head()"
   ]
  },
  {
   "cell_type": "code",
   "execution_count": 23,
   "metadata": {
    "collapsed": false
   },
   "outputs": [
    {
     "data": {
      "text/html": [
       "<div>\n",
       "<style>\n",
       "    .dataframe thead tr:only-child th {\n",
       "        text-align: right;\n",
       "    }\n",
       "\n",
       "    .dataframe thead th {\n",
       "        text-align: left;\n",
       "    }\n",
       "\n",
       "    .dataframe tbody tr th {\n",
       "        vertical-align: top;\n",
       "    }\n",
       "</style>\n",
       "<table border=\"1\" class=\"dataframe\">\n",
       "  <thead>\n",
       "    <tr style=\"text-align: right;\">\n",
       "      <th></th>\n",
       "      <th>Delay Count</th>\n",
       "      <th>Report Date Time</th>\n",
       "    </tr>\n",
       "    <tr>\n",
       "      <th>Report Date Time</th>\n",
       "      <th></th>\n",
       "      <th></th>\n",
       "    </tr>\n",
       "  </thead>\n",
       "  <tbody>\n",
       "    <tr>\n",
       "      <th>2014-01-31</th>\n",
       "      <td>319</td>\n",
       "      <td>2014-01-31</td>\n",
       "    </tr>\n",
       "    <tr>\n",
       "      <th>2014-02-28</th>\n",
       "      <td>178</td>\n",
       "      <td>2014-02-28</td>\n",
       "    </tr>\n",
       "    <tr>\n",
       "      <th>2014-03-31</th>\n",
       "      <td>1277</td>\n",
       "      <td>2014-03-31</td>\n",
       "    </tr>\n",
       "    <tr>\n",
       "      <th>2014-04-30</th>\n",
       "      <td>1180</td>\n",
       "      <td>2014-04-30</td>\n",
       "    </tr>\n",
       "    <tr>\n",
       "      <th>2014-05-31</th>\n",
       "      <td>964</td>\n",
       "      <td>2014-05-31</td>\n",
       "    </tr>\n",
       "  </tbody>\n",
       "</table>\n",
       "</div>"
      ],
      "text/plain": [
       "                  Delay Count Report Date Time\n",
       "Report Date Time                              \n",
       "2014-01-31                319       2014-01-31\n",
       "2014-02-28                178       2014-02-28\n",
       "2014-03-31               1277       2014-03-31\n",
       "2014-04-30               1180       2014-04-30\n",
       "2014-05-31                964       2014-05-31"
      ]
     },
     "execution_count": 23,
     "metadata": {},
     "output_type": "execute_result"
    }
   ],
   "source": [
    "dfmonthcount['Report Date Time'] = dfmonthcount.index\n",
    "dfmonthcount.head()"
   ]
  },
  {
   "cell_type": "code",
   "execution_count": 24,
   "metadata": {
    "collapsed": false
   },
   "outputs": [
    {
     "data": {
      "text/html": [
       "<div>\n",
       "<style>\n",
       "    .dataframe thead tr:only-child th {\n",
       "        text-align: right;\n",
       "    }\n",
       "\n",
       "    .dataframe thead th {\n",
       "        text-align: left;\n",
       "    }\n",
       "\n",
       "    .dataframe tbody tr th {\n",
       "        vertical-align: top;\n",
       "    }\n",
       "</style>\n",
       "<table border=\"1\" class=\"dataframe\">\n",
       "  <thead>\n",
       "    <tr style=\"text-align: right;\">\n",
       "      <th></th>\n",
       "      <th>Min Delay</th>\n",
       "      <th>Report Date Time_left</th>\n",
       "      <th>Delay Count</th>\n",
       "      <th>Report Date Time_right</th>\n",
       "    </tr>\n",
       "    <tr>\n",
       "      <th>Report Date Time</th>\n",
       "      <th></th>\n",
       "      <th></th>\n",
       "      <th></th>\n",
       "      <th></th>\n",
       "    </tr>\n",
       "  </thead>\n",
       "  <tbody>\n",
       "    <tr>\n",
       "      <th>2014-01-31</th>\n",
       "      <td>7.862069</td>\n",
       "      <td>2014-01-31</td>\n",
       "      <td>319</td>\n",
       "      <td>2014-01-31</td>\n",
       "    </tr>\n",
       "    <tr>\n",
       "      <th>2014-02-28</th>\n",
       "      <td>14.117978</td>\n",
       "      <td>2014-02-28</td>\n",
       "      <td>178</td>\n",
       "      <td>2014-02-28</td>\n",
       "    </tr>\n",
       "    <tr>\n",
       "      <th>2014-03-31</th>\n",
       "      <td>12.590446</td>\n",
       "      <td>2014-03-31</td>\n",
       "      <td>1277</td>\n",
       "      <td>2014-03-31</td>\n",
       "    </tr>\n",
       "    <tr>\n",
       "      <th>2014-04-30</th>\n",
       "      <td>12.645763</td>\n",
       "      <td>2014-04-30</td>\n",
       "      <td>1180</td>\n",
       "      <td>2014-04-30</td>\n",
       "    </tr>\n",
       "    <tr>\n",
       "      <th>2014-05-31</th>\n",
       "      <td>12.280083</td>\n",
       "      <td>2014-05-31</td>\n",
       "      <td>964</td>\n",
       "      <td>2014-05-31</td>\n",
       "    </tr>\n",
       "  </tbody>\n",
       "</table>\n",
       "</div>"
      ],
      "text/plain": [
       "                  Min Delay Report Date Time_left  Delay Count  \\\n",
       "Report Date Time                                                 \n",
       "2014-01-31         7.862069            2014-01-31          319   \n",
       "2014-02-28        14.117978            2014-02-28          178   \n",
       "2014-03-31        12.590446            2014-03-31         1277   \n",
       "2014-04-30        12.645763            2014-04-30         1180   \n",
       "2014-05-31        12.280083            2014-05-31          964   \n",
       "\n",
       "                 Report Date Time_right  \n",
       "Report Date Time                         \n",
       "2014-01-31                   2014-01-31  \n",
       "2014-02-28                   2014-02-28  \n",
       "2014-03-31                   2014-03-31  \n",
       "2014-04-30                   2014-04-30  \n",
       "2014-05-31                   2014-05-31  "
      ]
     },
     "execution_count": 24,
     "metadata": {},
     "output_type": "execute_result"
    }
   ],
   "source": [
    "# merged_data = merged_data.join(dm_cases.set_index('CASE_NUMBER'), on = 'CASE_NUMBER')\n",
    "dfmonthav = dfmonthav.join(dfmonthcount, on='Report Date Time',lsuffix='_left', rsuffix='_right')\n",
    "dfmonthav.head()"
   ]
  },
  {
   "cell_type": "code",
   "execution_count": 25,
   "metadata": {
    "collapsed": false
   },
   "outputs": [
    {
     "data": {
      "text/html": [
       "<div>\n",
       "<style>\n",
       "    .dataframe thead tr:only-child th {\n",
       "        text-align: right;\n",
       "    }\n",
       "\n",
       "    .dataframe thead th {\n",
       "        text-align: left;\n",
       "    }\n",
       "\n",
       "    .dataframe tbody tr th {\n",
       "        vertical-align: top;\n",
       "    }\n",
       "</style>\n",
       "<table border=\"1\" class=\"dataframe\">\n",
       "  <thead>\n",
       "    <tr style=\"text-align: right;\">\n",
       "      <th></th>\n",
       "      <th>Min Delay</th>\n",
       "      <th>Report Date Time_left</th>\n",
       "      <th>Delay Count</th>\n",
       "      <th>Report Date Time_right</th>\n",
       "    </tr>\n",
       "    <tr>\n",
       "      <th>Report Date Time</th>\n",
       "      <th></th>\n",
       "      <th></th>\n",
       "      <th></th>\n",
       "      <th></th>\n",
       "    </tr>\n",
       "  </thead>\n",
       "  <tbody>\n",
       "    <tr>\n",
       "      <th>2014-01-31</th>\n",
       "      <td>7.862069</td>\n",
       "      <td>2014-01-31</td>\n",
       "      <td>319</td>\n",
       "      <td>2014-01-31</td>\n",
       "    </tr>\n",
       "    <tr>\n",
       "      <th>2014-02-28</th>\n",
       "      <td>14.117978</td>\n",
       "      <td>2014-02-28</td>\n",
       "      <td>178</td>\n",
       "      <td>2014-02-28</td>\n",
       "    </tr>\n",
       "    <tr>\n",
       "      <th>2014-03-31</th>\n",
       "      <td>12.590446</td>\n",
       "      <td>2014-03-31</td>\n",
       "      <td>1277</td>\n",
       "      <td>2014-03-31</td>\n",
       "    </tr>\n",
       "    <tr>\n",
       "      <th>2014-04-30</th>\n",
       "      <td>12.645763</td>\n",
       "      <td>2014-04-30</td>\n",
       "      <td>1180</td>\n",
       "      <td>2014-04-30</td>\n",
       "    </tr>\n",
       "    <tr>\n",
       "      <th>2014-05-31</th>\n",
       "      <td>12.280083</td>\n",
       "      <td>2014-05-31</td>\n",
       "      <td>964</td>\n",
       "      <td>2014-05-31</td>\n",
       "    </tr>\n",
       "  </tbody>\n",
       "</table>\n",
       "</div>"
      ],
      "text/plain": [
       "                  Min Delay Report Date Time_left  Delay Count  \\\n",
       "Report Date Time                                                 \n",
       "2014-01-31         7.862069            2014-01-31          319   \n",
       "2014-02-28        14.117978            2014-02-28          178   \n",
       "2014-03-31        12.590446            2014-03-31         1277   \n",
       "2014-04-30        12.645763            2014-04-30         1180   \n",
       "2014-05-31        12.280083            2014-05-31          964   \n",
       "\n",
       "                 Report Date Time_right  \n",
       "Report Date Time                         \n",
       "2014-01-31                   2014-01-31  \n",
       "2014-02-28                   2014-02-28  \n",
       "2014-03-31                   2014-03-31  \n",
       "2014-04-30                   2014-04-30  \n",
       "2014-05-31                   2014-05-31  "
      ]
     },
     "execution_count": 25,
     "metadata": {},
     "output_type": "execute_result"
    }
   ],
   "source": [
    "dfmonthav.head()"
   ]
  },
  {
   "cell_type": "code",
   "execution_count": 26,
   "metadata": {
    "collapsed": false
   },
   "outputs": [
    {
     "data": {
      "text/html": [
       "<div>\n",
       "<style>\n",
       "    .dataframe thead tr:only-child th {\n",
       "        text-align: right;\n",
       "    }\n",
       "\n",
       "    .dataframe thead th {\n",
       "        text-align: left;\n",
       "    }\n",
       "\n",
       "    .dataframe tbody tr th {\n",
       "        vertical-align: top;\n",
       "    }\n",
       "</style>\n",
       "<table border=\"1\" class=\"dataframe\">\n",
       "  <thead>\n",
       "    <tr style=\"text-align: right;\">\n",
       "      <th></th>\n",
       "      <th>Min Delay</th>\n",
       "      <th>Report Date Time</th>\n",
       "      <th>Delay Count</th>\n",
       "      <th>Report Date Time_right</th>\n",
       "    </tr>\n",
       "    <tr>\n",
       "      <th>Report Date Time</th>\n",
       "      <th></th>\n",
       "      <th></th>\n",
       "      <th></th>\n",
       "      <th></th>\n",
       "    </tr>\n",
       "  </thead>\n",
       "  <tbody>\n",
       "    <tr>\n",
       "      <th>2014-01-31</th>\n",
       "      <td>7.862069</td>\n",
       "      <td>2014-01-31</td>\n",
       "      <td>319</td>\n",
       "      <td>2014-01-31</td>\n",
       "    </tr>\n",
       "    <tr>\n",
       "      <th>2014-02-28</th>\n",
       "      <td>14.117978</td>\n",
       "      <td>2014-02-28</td>\n",
       "      <td>178</td>\n",
       "      <td>2014-02-28</td>\n",
       "    </tr>\n",
       "    <tr>\n",
       "      <th>2014-03-31</th>\n",
       "      <td>12.590446</td>\n",
       "      <td>2014-03-31</td>\n",
       "      <td>1277</td>\n",
       "      <td>2014-03-31</td>\n",
       "    </tr>\n",
       "    <tr>\n",
       "      <th>2014-04-30</th>\n",
       "      <td>12.645763</td>\n",
       "      <td>2014-04-30</td>\n",
       "      <td>1180</td>\n",
       "      <td>2014-04-30</td>\n",
       "    </tr>\n",
       "    <tr>\n",
       "      <th>2014-05-31</th>\n",
       "      <td>12.280083</td>\n",
       "      <td>2014-05-31</td>\n",
       "      <td>964</td>\n",
       "      <td>2014-05-31</td>\n",
       "    </tr>\n",
       "  </tbody>\n",
       "</table>\n",
       "</div>"
      ],
      "text/plain": [
       "                  Min Delay Report Date Time  Delay Count  \\\n",
       "Report Date Time                                            \n",
       "2014-01-31         7.862069       2014-01-31          319   \n",
       "2014-02-28        14.117978       2014-02-28          178   \n",
       "2014-03-31        12.590446       2014-03-31         1277   \n",
       "2014-04-30        12.645763       2014-04-30         1180   \n",
       "2014-05-31        12.280083       2014-05-31          964   \n",
       "\n",
       "                 Report Date Time_right  \n",
       "Report Date Time                         \n",
       "2014-01-31                   2014-01-31  \n",
       "2014-02-28                   2014-02-28  \n",
       "2014-03-31                   2014-03-31  \n",
       "2014-04-30                   2014-04-30  \n",
       "2014-05-31                   2014-05-31  "
      ]
     },
     "execution_count": 26,
     "metadata": {},
     "output_type": "execute_result"
    }
   ],
   "source": [
    "dfmonthav = dfmonthav.rename(columns={'Report Date Time_left':'Report Date Time'})\n",
    "dfmonthav.drop(['Report Date Time_right'],axis=1)\n",
    "dfmonthav.head()"
   ]
  },
  {
   "cell_type": "code",
   "execution_count": 27,
   "metadata": {
    "collapsed": false
   },
   "outputs": [
    {
     "data": {
      "text/html": [
       "<div>\n",
       "<style>\n",
       "    .dataframe thead tr:only-child th {\n",
       "        text-align: right;\n",
       "    }\n",
       "\n",
       "    .dataframe thead th {\n",
       "        text-align: left;\n",
       "    }\n",
       "\n",
       "    .dataframe tbody tr th {\n",
       "        vertical-align: top;\n",
       "    }\n",
       "</style>\n",
       "<table border=\"1\" class=\"dataframe\">\n",
       "  <thead>\n",
       "    <tr style=\"text-align: right;\">\n",
       "      <th></th>\n",
       "      <th>Min Delay</th>\n",
       "      <th>Report Date Time</th>\n",
       "      <th>Delay Count</th>\n",
       "      <th>Report Date Time_right</th>\n",
       "    </tr>\n",
       "    <tr>\n",
       "      <th>Report Date Time</th>\n",
       "      <th></th>\n",
       "      <th></th>\n",
       "      <th></th>\n",
       "      <th></th>\n",
       "    </tr>\n",
       "  </thead>\n",
       "  <tbody>\n",
       "    <tr>\n",
       "      <th>2014-01-31</th>\n",
       "      <td>7.862069</td>\n",
       "      <td>2014-01-31</td>\n",
       "      <td>319</td>\n",
       "      <td>2014-01-31</td>\n",
       "    </tr>\n",
       "    <tr>\n",
       "      <th>2014-02-28</th>\n",
       "      <td>14.117978</td>\n",
       "      <td>2014-02-28</td>\n",
       "      <td>178</td>\n",
       "      <td>2014-02-28</td>\n",
       "    </tr>\n",
       "    <tr>\n",
       "      <th>2014-03-31</th>\n",
       "      <td>12.590446</td>\n",
       "      <td>2014-03-31</td>\n",
       "      <td>1277</td>\n",
       "      <td>2014-03-31</td>\n",
       "    </tr>\n",
       "    <tr>\n",
       "      <th>2014-04-30</th>\n",
       "      <td>12.645763</td>\n",
       "      <td>2014-04-30</td>\n",
       "      <td>1180</td>\n",
       "      <td>2014-04-30</td>\n",
       "    </tr>\n",
       "    <tr>\n",
       "      <th>2014-05-31</th>\n",
       "      <td>12.280083</td>\n",
       "      <td>2014-05-31</td>\n",
       "      <td>964</td>\n",
       "      <td>2014-05-31</td>\n",
       "    </tr>\n",
       "  </tbody>\n",
       "</table>\n",
       "</div>"
      ],
      "text/plain": [
       "                  Min Delay Report Date Time  Delay Count  \\\n",
       "Report Date Time                                            \n",
       "2014-01-31         7.862069       2014-01-31          319   \n",
       "2014-02-28        14.117978       2014-02-28          178   \n",
       "2014-03-31        12.590446       2014-03-31         1277   \n",
       "2014-04-30        12.645763       2014-04-30         1180   \n",
       "2014-05-31        12.280083       2014-05-31          964   \n",
       "\n",
       "                 Report Date Time_right  \n",
       "Report Date Time                         \n",
       "2014-01-31                   2014-01-31  \n",
       "2014-02-28                   2014-02-28  \n",
       "2014-03-31                   2014-03-31  \n",
       "2014-04-30                   2014-04-30  \n",
       "2014-05-31                   2014-05-31  "
      ]
     },
     "execution_count": 27,
     "metadata": {},
     "output_type": "execute_result"
    }
   ],
   "source": [
    "dfmonthav.drop(['Report Date Time_right'],axis=1)\n",
    "dfmonthav.head()"
   ]
  },
  {
   "cell_type": "code",
   "execution_count": 28,
   "metadata": {
    "collapsed": false
   },
   "outputs": [
    {
     "data": {
      "text/plain": [
       "<matplotlib.axes._subplots.AxesSubplot at 0x7f1b7cab18d0>"
      ]
     },
     "execution_count": 28,
     "metadata": {},
     "output_type": "execute_result"
    }
   ],
   "source": [
    "dfmonthav['Min Delay'].plot(legend=True)\n",
    "# df.B.plot(secondary_y=True, style='g')\n",
    "dfmonthav['Delay Count'].plot(secondary_y=True, style='g',legend=True)"
   ]
  },
  {
   "cell_type": "code",
   "execution_count": 29,
   "metadata": {
    "collapsed": false,
    "scrolled": true
   },
   "outputs": [
    {
     "name": "stderr",
     "output_type": "stream",
     "text": [
      "/opt/conda/lib/python2.7/site-packages/matplotlib/font_manager.py:1297: UserWarning: findfont: Font family [u'sans-serif'] not found. Falling back to DejaVu Sans\n",
      "  (prop.get_family(), self.defaultFamily[fontext]))\n"
     ]
    },
    {
     "data": {
      "image/png": "[encoded data removed]",
      "text/plain": [
       "<matplotlib.figure.Figure at 0x7f1b7ca895d0>"
      ]
     },
     "metadata": {},
     "output_type": "display_data"
    }
   ],
   "source": [
    "#ax.set_ylabel('Average Delay')\n",
    "#ax.right_ax.set_ylabel('Number of delays')\n",
    "plt.rcParams[\"figure.figsize\"] = [8,4]\n",
    "plt.show()"
   ]
  },
  {
   "cell_type": "markdown",
   "metadata": {},
   "source": [
    "# Time Series Forecasting\n",
    "**Trend**:- As the name suggests trend depicts the variation in the output as time increases.It is often non-linear. Sometimes we will refer to trend as “changing direction” when it might go from an increasing trend to a decreasing trend.\n",
    "\n",
    "**Level**:- It basically depicts baseline value for the time series.\n",
    "\n",
    "**Seasonal**:- As its name depicts it shows the repeated pattern over time. In layman terms, it shows the seasonal variation of data over time.\n",
    "\n",
    "**Noise**:- It is basically external noises that vary the data randomly."
   ]
  },
  {
   "cell_type": "code",
   "execution_count": 30,
   "metadata": {
    "collapsed": false
   },
   "outputs": [
    {
     "name": "stdout",
     "output_type": "stream",
     "text": [
      "<class 'pandas.core.frame.DataFrame'>\n",
      "DatetimeIndex: 55 entries, 2014-01-31 to 2018-07-31\n",
      "Freq: M\n",
      "Data columns (total 4 columns):\n",
      "Min Delay                 55 non-null float64\n",
      "Report Date Time          55 non-null datetime64[ns]\n",
      "Delay Count               55 non-null int64\n",
      "Report Date Time_right    55 non-null datetime64[ns]\n",
      "dtypes: datetime64[ns](2), float64(1), int64(1)\n",
      "memory usage: 2.1 KB\n"
     ]
    }
   ],
   "source": [
    "dfmonthav.info()"
   ]
  },
  {
   "cell_type": "code",
   "execution_count": 31,
   "metadata": {
    "collapsed": false
   },
   "outputs": [
    {
     "data": {
      "text/html": [
       "<div>\n",
       "<style>\n",
       "    .dataframe thead tr:only-child th {\n",
       "        text-align: right;\n",
       "    }\n",
       "\n",
       "    .dataframe thead th {\n",
       "        text-align: left;\n",
       "    }\n",
       "\n",
       "    .dataframe tbody tr th {\n",
       "        vertical-align: top;\n",
       "    }\n",
       "</style>\n",
       "<table border=\"1\" class=\"dataframe\">\n",
       "  <thead>\n",
       "    <tr style=\"text-align: right;\">\n",
       "      <th></th>\n",
       "      <th>Min Delay</th>\n",
       "      <th>Report Date Time</th>\n",
       "      <th>Delay Count</th>\n",
       "      <th>Report Date Time_right</th>\n",
       "      <th>Month</th>\n",
       "    </tr>\n",
       "    <tr>\n",
       "      <th>Report Date Time</th>\n",
       "      <th></th>\n",
       "      <th></th>\n",
       "      <th></th>\n",
       "      <th></th>\n",
       "      <th></th>\n",
       "    </tr>\n",
       "  </thead>\n",
       "  <tbody>\n",
       "    <tr>\n",
       "      <th>2014-01-31</th>\n",
       "      <td>7.862069</td>\n",
       "      <td>2014-01-31</td>\n",
       "      <td>319</td>\n",
       "      <td>2014-01-31</td>\n",
       "      <td>1</td>\n",
       "    </tr>\n",
       "    <tr>\n",
       "      <th>2014-02-28</th>\n",
       "      <td>14.117978</td>\n",
       "      <td>2014-02-28</td>\n",
       "      <td>178</td>\n",
       "      <td>2014-02-28</td>\n",
       "      <td>2</td>\n",
       "    </tr>\n",
       "    <tr>\n",
       "      <th>2014-03-31</th>\n",
       "      <td>12.590446</td>\n",
       "      <td>2014-03-31</td>\n",
       "      <td>1277</td>\n",
       "      <td>2014-03-31</td>\n",
       "      <td>3</td>\n",
       "    </tr>\n",
       "    <tr>\n",
       "      <th>2014-04-30</th>\n",
       "      <td>12.645763</td>\n",
       "      <td>2014-04-30</td>\n",
       "      <td>1180</td>\n",
       "      <td>2014-04-30</td>\n",
       "      <td>4</td>\n",
       "    </tr>\n",
       "    <tr>\n",
       "      <th>2014-05-31</th>\n",
       "      <td>12.280083</td>\n",
       "      <td>2014-05-31</td>\n",
       "      <td>964</td>\n",
       "      <td>2014-05-31</td>\n",
       "      <td>5</td>\n",
       "    </tr>\n",
       "    <tr>\n",
       "      <th>2014-06-30</th>\n",
       "      <td>15.066437</td>\n",
       "      <td>2014-06-30</td>\n",
       "      <td>1159</td>\n",
       "      <td>2014-06-30</td>\n",
       "      <td>6</td>\n",
       "    </tr>\n",
       "    <tr>\n",
       "      <th>2014-07-31</th>\n",
       "      <td>13.701789</td>\n",
       "      <td>2014-07-31</td>\n",
       "      <td>1006</td>\n",
       "      <td>2014-07-31</td>\n",
       "      <td>7</td>\n",
       "    </tr>\n",
       "    <tr>\n",
       "      <th>2014-08-31</th>\n",
       "      <td>12.505335</td>\n",
       "      <td>2014-08-31</td>\n",
       "      <td>1031</td>\n",
       "      <td>2014-08-31</td>\n",
       "      <td>8</td>\n",
       "    </tr>\n",
       "    <tr>\n",
       "      <th>2014-09-30</th>\n",
       "      <td>13.942373</td>\n",
       "      <td>2014-09-30</td>\n",
       "      <td>1180</td>\n",
       "      <td>2014-09-30</td>\n",
       "      <td>9</td>\n",
       "    </tr>\n",
       "    <tr>\n",
       "      <th>2014-10-31</th>\n",
       "      <td>16.803625</td>\n",
       "      <td>2014-10-31</td>\n",
       "      <td>993</td>\n",
       "      <td>2014-10-31</td>\n",
       "      <td>10</td>\n",
       "    </tr>\n",
       "    <tr>\n",
       "      <th>2014-11-30</th>\n",
       "      <td>15.501160</td>\n",
       "      <td>2014-11-30</td>\n",
       "      <td>862</td>\n",
       "      <td>2014-11-30</td>\n",
       "      <td>11</td>\n",
       "    </tr>\n",
       "    <tr>\n",
       "      <th>2014-12-31</th>\n",
       "      <td>13.972540</td>\n",
       "      <td>2014-12-31</td>\n",
       "      <td>874</td>\n",
       "      <td>2014-12-31</td>\n",
       "      <td>12</td>\n",
       "    </tr>\n",
       "    <tr>\n",
       "      <th>2015-01-31</th>\n",
       "      <td>11.913779</td>\n",
       "      <td>2015-01-31</td>\n",
       "      <td>1241</td>\n",
       "      <td>2015-01-31</td>\n",
       "      <td>1</td>\n",
       "    </tr>\n",
       "    <tr>\n",
       "      <th>2015-02-28</th>\n",
       "      <td>11.432173</td>\n",
       "      <td>2015-02-28</td>\n",
       "      <td>1666</td>\n",
       "      <td>2015-02-28</td>\n",
       "      <td>2</td>\n",
       "    </tr>\n",
       "    <tr>\n",
       "      <th>2015-03-31</th>\n",
       "      <td>13.610687</td>\n",
       "      <td>2015-03-31</td>\n",
       "      <td>1048</td>\n",
       "      <td>2015-03-31</td>\n",
       "      <td>3</td>\n",
       "    </tr>\n",
       "    <tr>\n",
       "      <th>2015-04-30</th>\n",
       "      <td>13.791139</td>\n",
       "      <td>2015-04-30</td>\n",
       "      <td>948</td>\n",
       "      <td>2015-04-30</td>\n",
       "      <td>4</td>\n",
       "    </tr>\n",
       "    <tr>\n",
       "      <th>2015-05-31</th>\n",
       "      <td>16.212888</td>\n",
       "      <td>2015-05-31</td>\n",
       "      <td>869</td>\n",
       "      <td>2015-05-31</td>\n",
       "      <td>5</td>\n",
       "    </tr>\n",
       "    <tr>\n",
       "      <th>2015-06-30</th>\n",
       "      <td>16.766834</td>\n",
       "      <td>2015-06-30</td>\n",
       "      <td>995</td>\n",
       "      <td>2015-06-30</td>\n",
       "      <td>6</td>\n",
       "    </tr>\n",
       "    <tr>\n",
       "      <th>2015-07-31</th>\n",
       "      <td>11.854423</td>\n",
       "      <td>2015-07-31</td>\n",
       "      <td>893</td>\n",
       "      <td>2015-07-31</td>\n",
       "      <td>7</td>\n",
       "    </tr>\n",
       "    <tr>\n",
       "      <th>2015-08-31</th>\n",
       "      <td>12.429012</td>\n",
       "      <td>2015-08-31</td>\n",
       "      <td>972</td>\n",
       "      <td>2015-08-31</td>\n",
       "      <td>8</td>\n",
       "    </tr>\n",
       "  </tbody>\n",
       "</table>\n",
       "</div>"
      ],
      "text/plain": [
       "                  Min Delay Report Date Time  Delay Count  \\\n",
       "Report Date Time                                            \n",
       "2014-01-31         7.862069       2014-01-31          319   \n",
       "2014-02-28        14.117978       2014-02-28          178   \n",
       "2014-03-31        12.590446       2014-03-31         1277   \n",
       "2014-04-30        12.645763       2014-04-30         1180   \n",
       "2014-05-31        12.280083       2014-05-31          964   \n",
       "2014-06-30        15.066437       2014-06-30         1159   \n",
       "2014-07-31        13.701789       2014-07-31         1006   \n",
       "2014-08-31        12.505335       2014-08-31         1031   \n",
       "2014-09-30        13.942373       2014-09-30         1180   \n",
       "2014-10-31        16.803625       2014-10-31          993   \n",
       "2014-11-30        15.501160       2014-11-30          862   \n",
       "2014-12-31        13.972540       2014-12-31          874   \n",
       "2015-01-31        11.913779       2015-01-31         1241   \n",
       "2015-02-28        11.432173       2015-02-28         1666   \n",
       "2015-03-31        13.610687       2015-03-31         1048   \n",
       "2015-04-30        13.791139       2015-04-30          948   \n",
       "2015-05-31        16.212888       2015-05-31          869   \n",
       "2015-06-30        16.766834       2015-06-30          995   \n",
       "2015-07-31        11.854423       2015-07-31          893   \n",
       "2015-08-31        12.429012       2015-08-31          972   \n",
       "\n",
       "                 Report Date Time_right  Month  \n",
       "Report Date Time                                \n",
       "2014-01-31                   2014-01-31      1  \n",
       "2014-02-28                   2014-02-28      2  \n",
       "2014-03-31                   2014-03-31      3  \n",
       "2014-04-30                   2014-04-30      4  \n",
       "2014-05-31                   2014-05-31      5  \n",
       "2014-06-30                   2014-06-30      6  \n",
       "2014-07-31                   2014-07-31      7  \n",
       "2014-08-31                   2014-08-31      8  \n",
       "2014-09-30                   2014-09-30      9  \n",
       "2014-10-31                   2014-10-31     10  \n",
       "2014-11-30                   2014-11-30     11  \n",
       "2014-12-31                   2014-12-31     12  \n",
       "2015-01-31                   2015-01-31      1  \n",
       "2015-02-28                   2015-02-28      2  \n",
       "2015-03-31                   2015-03-31      3  \n",
       "2015-04-30                   2015-04-30      4  \n",
       "2015-05-31                   2015-05-31      5  \n",
       "2015-06-30                   2015-06-30      6  \n",
       "2015-07-31                   2015-07-31      7  \n",
       "2015-08-31                   2015-08-31      8  "
      ]
     },
     "execution_count": 31,
     "metadata": {},
     "output_type": "execute_result"
    }
   ],
   "source": [
    "# add a column to make scatter plot by month convenient\n",
    "dfmonthav['Month'] = dfmonthav['Report Date Time'].dt.month\n",
    "dfmonthav.head(20)"
   ]
  },
  {
   "cell_type": "code",
   "execution_count": 32,
   "metadata": {
    "collapsed": false
   },
   "outputs": [
    {
     "data": {
      "text/html": [
       "<div>\n",
       "<style>\n",
       "    .dataframe thead tr:only-child th {\n",
       "        text-align: right;\n",
       "    }\n",
       "\n",
       "    .dataframe thead th {\n",
       "        text-align: left;\n",
       "    }\n",
       "\n",
       "    .dataframe tbody tr th {\n",
       "        vertical-align: top;\n",
       "    }\n",
       "</style>\n",
       "<table border=\"1\" class=\"dataframe\">\n",
       "  <thead>\n",
       "    <tr style=\"text-align: right;\">\n",
       "      <th></th>\n",
       "      <th>Min Delay</th>\n",
       "      <th>Report Date Time</th>\n",
       "      <th>Delay Count</th>\n",
       "      <th>Report Date Time_right</th>\n",
       "      <th>Month</th>\n",
       "    </tr>\n",
       "    <tr>\n",
       "      <th>Report Date Time</th>\n",
       "      <th></th>\n",
       "      <th></th>\n",
       "      <th></th>\n",
       "      <th></th>\n",
       "      <th></th>\n",
       "    </tr>\n",
       "  </thead>\n",
       "  <tbody>\n",
       "    <tr>\n",
       "      <th>2014-01-31</th>\n",
       "      <td>7.862069</td>\n",
       "      <td>2014-01-31</td>\n",
       "      <td>319</td>\n",
       "      <td>2014-01-31</td>\n",
       "      <td>1</td>\n",
       "    </tr>\n",
       "    <tr>\n",
       "      <th>2014-02-28</th>\n",
       "      <td>14.117978</td>\n",
       "      <td>2014-02-28</td>\n",
       "      <td>178</td>\n",
       "      <td>2014-02-28</td>\n",
       "      <td>2</td>\n",
       "    </tr>\n",
       "    <tr>\n",
       "      <th>2014-03-31</th>\n",
       "      <td>12.590446</td>\n",
       "      <td>2014-03-31</td>\n",
       "      <td>1277</td>\n",
       "      <td>2014-03-31</td>\n",
       "      <td>3</td>\n",
       "    </tr>\n",
       "    <tr>\n",
       "      <th>2014-04-30</th>\n",
       "      <td>12.645763</td>\n",
       "      <td>2014-04-30</td>\n",
       "      <td>1180</td>\n",
       "      <td>2014-04-30</td>\n",
       "      <td>4</td>\n",
       "    </tr>\n",
       "    <tr>\n",
       "      <th>2014-05-31</th>\n",
       "      <td>12.280083</td>\n",
       "      <td>2014-05-31</td>\n",
       "      <td>964</td>\n",
       "      <td>2014-05-31</td>\n",
       "      <td>5</td>\n",
       "    </tr>\n",
       "    <tr>\n",
       "      <th>2014-06-30</th>\n",
       "      <td>15.066437</td>\n",
       "      <td>2014-06-30</td>\n",
       "      <td>1159</td>\n",
       "      <td>2014-06-30</td>\n",
       "      <td>6</td>\n",
       "    </tr>\n",
       "    <tr>\n",
       "      <th>2014-07-31</th>\n",
       "      <td>13.701789</td>\n",
       "      <td>2014-07-31</td>\n",
       "      <td>1006</td>\n",
       "      <td>2014-07-31</td>\n",
       "      <td>7</td>\n",
       "    </tr>\n",
       "    <tr>\n",
       "      <th>2014-08-31</th>\n",
       "      <td>12.505335</td>\n",
       "      <td>2014-08-31</td>\n",
       "      <td>1031</td>\n",
       "      <td>2014-08-31</td>\n",
       "      <td>8</td>\n",
       "    </tr>\n",
       "    <tr>\n",
       "      <th>2014-09-30</th>\n",
       "      <td>13.942373</td>\n",
       "      <td>2014-09-30</td>\n",
       "      <td>1180</td>\n",
       "      <td>2014-09-30</td>\n",
       "      <td>9</td>\n",
       "    </tr>\n",
       "    <tr>\n",
       "      <th>2014-10-31</th>\n",
       "      <td>16.803625</td>\n",
       "      <td>2014-10-31</td>\n",
       "      <td>993</td>\n",
       "      <td>2014-10-31</td>\n",
       "      <td>10</td>\n",
       "    </tr>\n",
       "    <tr>\n",
       "      <th>2014-11-30</th>\n",
       "      <td>15.501160</td>\n",
       "      <td>2014-11-30</td>\n",
       "      <td>862</td>\n",
       "      <td>2014-11-30</td>\n",
       "      <td>11</td>\n",
       "    </tr>\n",
       "    <tr>\n",
       "      <th>2014-12-31</th>\n",
       "      <td>13.972540</td>\n",
       "      <td>2014-12-31</td>\n",
       "      <td>874</td>\n",
       "      <td>2014-12-31</td>\n",
       "      <td>12</td>\n",
       "    </tr>\n",
       "    <tr>\n",
       "      <th>2015-01-31</th>\n",
       "      <td>11.913779</td>\n",
       "      <td>2015-01-31</td>\n",
       "      <td>1241</td>\n",
       "      <td>2015-01-31</td>\n",
       "      <td>1</td>\n",
       "    </tr>\n",
       "    <tr>\n",
       "      <th>2015-02-28</th>\n",
       "      <td>11.432173</td>\n",
       "      <td>2015-02-28</td>\n",
       "      <td>1666</td>\n",
       "      <td>2015-02-28</td>\n",
       "      <td>2</td>\n",
       "    </tr>\n",
       "    <tr>\n",
       "      <th>2015-03-31</th>\n",
       "      <td>13.610687</td>\n",
       "      <td>2015-03-31</td>\n",
       "      <td>1048</td>\n",
       "      <td>2015-03-31</td>\n",
       "      <td>3</td>\n",
       "    </tr>\n",
       "    <tr>\n",
       "      <th>2015-04-30</th>\n",
       "      <td>13.791139</td>\n",
       "      <td>2015-04-30</td>\n",
       "      <td>948</td>\n",
       "      <td>2015-04-30</td>\n",
       "      <td>4</td>\n",
       "    </tr>\n",
       "    <tr>\n",
       "      <th>2015-05-31</th>\n",
       "      <td>16.212888</td>\n",
       "      <td>2015-05-31</td>\n",
       "      <td>869</td>\n",
       "      <td>2015-05-31</td>\n",
       "      <td>5</td>\n",
       "    </tr>\n",
       "    <tr>\n",
       "      <th>2015-06-30</th>\n",
       "      <td>16.766834</td>\n",
       "      <td>2015-06-30</td>\n",
       "      <td>995</td>\n",
       "      <td>2015-06-30</td>\n",
       "      <td>6</td>\n",
       "    </tr>\n",
       "    <tr>\n",
       "      <th>2015-07-31</th>\n",
       "      <td>11.854423</td>\n",
       "      <td>2015-07-31</td>\n",
       "      <td>893</td>\n",
       "      <td>2015-07-31</td>\n",
       "      <td>7</td>\n",
       "    </tr>\n",
       "    <tr>\n",
       "      <th>2015-08-31</th>\n",
       "      <td>12.429012</td>\n",
       "      <td>2015-08-31</td>\n",
       "      <td>972</td>\n",
       "      <td>2015-08-31</td>\n",
       "      <td>8</td>\n",
       "    </tr>\n",
       "  </tbody>\n",
       "</table>\n",
       "</div>"
      ],
      "text/plain": [
       "                  Min Delay Report Date Time  Delay Count  \\\n",
       "Report Date Time                                            \n",
       "2014-01-31         7.862069       2014-01-31          319   \n",
       "2014-02-28        14.117978       2014-02-28          178   \n",
       "2014-03-31        12.590446       2014-03-31         1277   \n",
       "2014-04-30        12.645763       2014-04-30         1180   \n",
       "2014-05-31        12.280083       2014-05-31          964   \n",
       "2014-06-30        15.066437       2014-06-30         1159   \n",
       "2014-07-31        13.701789       2014-07-31         1006   \n",
       "2014-08-31        12.505335       2014-08-31         1031   \n",
       "2014-09-30        13.942373       2014-09-30         1180   \n",
       "2014-10-31        16.803625       2014-10-31          993   \n",
       "2014-11-30        15.501160       2014-11-30          862   \n",
       "2014-12-31        13.972540       2014-12-31          874   \n",
       "2015-01-31        11.913779       2015-01-31         1241   \n",
       "2015-02-28        11.432173       2015-02-28         1666   \n",
       "2015-03-31        13.610687       2015-03-31         1048   \n",
       "2015-04-30        13.791139       2015-04-30          948   \n",
       "2015-05-31        16.212888       2015-05-31          869   \n",
       "2015-06-30        16.766834       2015-06-30          995   \n",
       "2015-07-31        11.854423       2015-07-31          893   \n",
       "2015-08-31        12.429012       2015-08-31          972   \n",
       "\n",
       "                 Report Date Time_right  Month  \n",
       "Report Date Time                                \n",
       "2014-01-31                   2014-01-31      1  \n",
       "2014-02-28                   2014-02-28      2  \n",
       "2014-03-31                   2014-03-31      3  \n",
       "2014-04-30                   2014-04-30      4  \n",
       "2014-05-31                   2014-05-31      5  \n",
       "2014-06-30                   2014-06-30      6  \n",
       "2014-07-31                   2014-07-31      7  \n",
       "2014-08-31                   2014-08-31      8  \n",
       "2014-09-30                   2014-09-30      9  \n",
       "2014-10-31                   2014-10-31     10  \n",
       "2014-11-30                   2014-11-30     11  \n",
       "2014-12-31                   2014-12-31     12  \n",
       "2015-01-31                   2015-01-31      1  \n",
       "2015-02-28                   2015-02-28      2  \n",
       "2015-03-31                   2015-03-31      3  \n",
       "2015-04-30                   2015-04-30      4  \n",
       "2015-05-31                   2015-05-31      5  \n",
       "2015-06-30                   2015-06-30      6  \n",
       "2015-07-31                   2015-07-31      7  \n",
       "2015-08-31                   2015-08-31      8  "
      ]
     },
     "execution_count": 32,
     "metadata": {},
     "output_type": "execute_result"
    }
   ],
   "source": [
    "dfmonthav.head(20)"
   ]
  },
  {
   "cell_type": "code",
   "execution_count": 33,
   "metadata": {
    "collapsed": false
   },
   "outputs": [
    {
     "data": {
      "image/png": "[encoded data removed]",
      "text/plain": [
       "<matplotlib.figure.Figure at 0x7f1b7c92ac90>"
      ]
     },
     "metadata": {},
     "output_type": "display_data"
    }
   ],
   "source": [
    "# scatter plot to show mean delay in same month across years\n",
    "dfmonthav.plot.scatter(x = 'Month', y = 'Min Delay')\n",
    "plt.show()"
   ]
  },
  {
   "cell_type": "code",
   "execution_count": 34,
   "metadata": {
    "collapsed": false
   },
   "outputs": [
    {
     "data": {
      "image/png": "[encoded data removed]",
      "text/plain": [
       "<matplotlib.figure.Figure at 0x7f1b7c882cd0>"
      ]
     },
     "metadata": {},
     "output_type": "display_data"
    }
   ],
   "source": [
    "# scatter plot to show delay count in same month across years\n",
    "dfmonthav.plot.scatter(x = 'Month', y = 'Delay Count')\n",
    "plt.show()"
   ]
  },
  {
   "cell_type": "markdown",
   "metadata": {},
   "source": [
    "# Trend Analysis\n",
    "\n",
    "Use the rolling method which is inbuilt in pandas for smoothing.\n",
    "\n",
    "For trend analysis, we use smoothing techniques. \n",
    "- In statistics smoothing a data set means to create an approximating function that attempts to capture important patterns in the data, while leaving out noise or other fine-scale structures/rapid phenomena. \n",
    "- In smoothing, the data points of a signal are modified so individual points (presumably because of noise) are reduced, and points that are lower than the adjacent points are increased leading to a smoother signal. \n",
    "\n",
    "We implement smoothing by taking moving averages. [Exponential moving average](https://www.investopedia.com/terms/e/ema.asp) is frequently used to compute smoothed function."
   ]
  },
  {
   "cell_type": "code",
   "execution_count": 35,
   "metadata": {
    "collapsed": true
   },
   "outputs": [],
   "source": [
    "mean_delay = dfmonthav[['Min Delay']]\n",
    "count_delay = dfmonthav[['Delay Count']]"
   ]
  },
  {
   "cell_type": "code",
   "execution_count": 36,
   "metadata": {
    "collapsed": false
   },
   "outputs": [
    {
     "data": {
      "image/png": "[encoded data removed]",
      "text/plain": [
       "<matplotlib.figure.Figure at 0x7f1b7c780ed0>"
      ]
     },
     "metadata": {},
     "output_type": "display_data"
    }
   ],
   "source": [
    "mean_delay.rolling(6).mean().plot(figsize=(20,10), linewidth=5, fontsize=20)\n",
    "plt.show()"
   ]
  },
  {
   "cell_type": "code",
   "execution_count": 37,
   "metadata": {
    "collapsed": false
   },
   "outputs": [
    {
     "data": {
      "image/png": "[encoded data removed]",
      "text/plain": [
       "<matplotlib.figure.Figure at 0x7f1b7c674310>"
      ]
     },
     "metadata": {},
     "output_type": "display_data"
    }
   ],
   "source": [
    "count_delay.rolling(6).mean().plot(figsize=(20,10), linewidth=5, fontsize=20)\n",
    "plt.show()"
   ]
  },
  {
   "cell_type": "markdown",
   "metadata": {},
   "source": [
    "## Seasonability Analysis\n",
    "\n",
    "Two most famous seasonability analysis algorithms are:\n",
    "\n",
    "[Using 1st discrete difference of object](https://machinelearningmastery.com/difference-time-series-dataset-python/)\n",
    "\n",
    "[Periodicity and Autocorrelation](https://machinelearningmastery.com/gentle-introduction-autocorrelation-partial-autocorrelation/)"
   ]
  },
  {
   "cell_type": "code",
   "execution_count": 38,
   "metadata": {
    "collapsed": false
   },
   "outputs": [
    {
     "data": {
      "image/png": "[encoded data removed]",
      "text/plain": [
       "<matplotlib.figure.Figure at 0x7f1b7c4c4b10>"
      ]
     },
     "metadata": {},
     "output_type": "display_data"
    }
   ],
   "source": [
    "# using 1st discrete difference of object\n",
    "# This gives us idea about variation of data for a period of time.\n",
    "mean_delay.diff(periods=4).plot(figsize=(20,10), linewidth=5, fontsize=20)\n",
    "plt.show()"
   ]
  },
  {
   "cell_type": "code",
   "execution_count": 39,
   "metadata": {
    "collapsed": false
   },
   "outputs": [
    {
     "data": {
      "image/png": "[encoded data removed]",
      "text/plain": [
       "<matplotlib.figure.Figure at 0x7f1b7c3e6090>"
      ]
     },
     "metadata": {},
     "output_type": "display_data"
    }
   ],
   "source": [
    "count_delay.diff(periods=4).plot(figsize=(20,10), linewidth=5, fontsize=20)\n",
    "plt.show()"
   ]
  },
  {
   "cell_type": "markdown",
   "metadata": {},
   "source": [
    "Auto correlation is the most famous way to understand seasonal variation till now. We can calculate the correlation for time series observations with observations with previous time steps, called lags. Because the correlation of the time series observations is calculated with values of the same series at previous times, this is called a serial correlation, or an autocorrelation.In this plot vertical axis is represented by the following equations:-\n",
    "\n",
    "> $C_n = \\sum_{t = 1}^{n - h} (y(t) - \\hat{y}) (y(t + n) - \\hat{y}) / n$\n",
    "\n",
    "> $C_0 = \\sum_{t = 1}^{n} (y(t) - \\hat{y})^2 / n$\n",
    "\n",
    "Horizontal axis represents time lag(previous time steps)  h"
   ]
  },
  {
   "cell_type": "code",
   "execution_count": 40,
   "metadata": {
    "collapsed": false
   },
   "outputs": [
    {
     "data": {
      "image/png": "[encoded data removed]",
      "text/plain": [
       "<matplotlib.figure.Figure at 0x7f1b7c8f6d90>"
      ]
     },
     "metadata": {},
     "output_type": "display_data"
    }
   ],
   "source": [
    "# mean_delay = dfmonthav[['Min Delay']]\n",
    "# count_delay = dfmonthav[['Delay Count']]\n",
    "\n",
    "\n",
    "pd.plotting.autocorrelation_plot(dfmonthav['Min Delay'])\n",
    "plt.show()\n",
    "# The following curve represents the relation between current time step and its previous time step"
   ]
  },
  {
   "cell_type": "code",
   "execution_count": 41,
   "metadata": {
    "collapsed": false
   },
   "outputs": [
    {
     "data": {
      "image/png": "[encoded data removed]",
      "text/plain": [
       "<matplotlib.figure.Figure at 0x7f1b7c217ad0>"
      ]
     },
     "metadata": {},
     "output_type": "display_data"
    }
   ],
   "source": [
    "pd.plotting.autocorrelation_plot(dfmonthav['Delay Count'])\n",
    "plt.show()\n",
    "# The following curve represents the relation between current time step and its previous time step"
   ]
  },
  {
   "cell_type": "code",
   "execution_count": 42,
   "metadata": {
    "collapsed": false
   },
   "outputs": [
    {
     "data": {
      "image/png": "[encoded data removed]",
      "text/plain": [
       "<matplotlib.figure.Figure at 0x7f1b7c266e10>"
      ]
     },
     "metadata": {},
     "output_type": "display_data"
    }
   ],
   "source": [
    "pd.plotting.lag_plot(dfmonthav['Min Delay'])\n",
    "plt.show()"
   ]
  },
  {
   "cell_type": "code",
   "execution_count": 43,
   "metadata": {
    "collapsed": false
   },
   "outputs": [
    {
     "data": {
      "image/png": "[encoded data removed]",
      "text/plain": [
       "<matplotlib.figure.Figure at 0x7f1b7c48e9d0>"
      ]
     },
     "metadata": {},
     "output_type": "display_data"
    }
   ],
   "source": [
    "pd.plotting.lag_plot(dfmonthav['Delay Count'])\n",
    "plt.show()"
   ]
  },
  {
   "cell_type": "code",
   "execution_count": 44,
   "metadata": {
    "collapsed": true
   },
   "outputs": [],
   "source": [
    "# df = df.set_index('YEAR_MONTH_SALE_DATE')"
   ]
  },
  {
   "cell_type": "markdown",
   "metadata": {},
   "source": [
    "## Applying Seasonal ARIMA model to forcast the data "
   ]
  },
  {
   "cell_type": "code",
   "execution_count": 45,
   "metadata": {
    "collapsed": false
   },
   "outputs": [
    {
     "name": "stderr",
     "output_type": "stream",
     "text": [
      "/opt/conda/lib/python2.7/site-packages/statsmodels/base/model.py:496: ConvergenceWarning: Maximum Likelihood optimization failed to converge. Check mle_retvals\n",
      "  \"Check mle_retvals\", ConvergenceWarning)\n"
     ]
    },
    {
     "name": "stdout",
     "output_type": "stream",
     "text": [
      "                                 Statespace Model Results                                 \n",
      "==========================================================================================\n",
      "Dep. Variable:                        Delay Count   No. Observations:                   55\n",
      "Model:             SARIMAX(0, 1, 0)x(1, 1, 1, 12)   Log Likelihood                -703.241\n",
      "Date:                            Sun, 30 Sep 2018   AIC                           1412.482\n",
      "Time:                                    22:58:46   BIC                           1418.504\n",
      "Sample:                                01-31-2014   HQIC                          1414.811\n",
      "                                     - 07-31-2018                                         \n",
      "Covariance Type:                              opg                                         \n",
      "==============================================================================\n",
      "                 coef    std err          z      P>|z|      [0.025      0.975]\n",
      "------------------------------------------------------------------------------\n",
      "ar.S.L12       0.5349          0        inf      0.000       0.535       0.535\n",
      "ma.S.L12   -3.825e+14          0       -inf      0.000   -3.83e+14   -3.83e+14\n",
      "sigma2      1.257e-09   6.36e-10      1.976      0.048    1.05e-11     2.5e-09\n",
      "===================================================================================\n",
      "Ljung-Box (Q):                       26.72   Jarque-Bera (JB):                70.83\n",
      "Prob(Q):                              0.53   Prob(JB):                         0.00\n",
      "Heteroskedasticity (H):               0.22   Skew:                             1.94\n",
      "Prob(H) (two-sided):                  0.02   Kurtosis:                         9.61\n",
      "===================================================================================\n",
      "\n",
      "Warnings:\n",
      "[1] Covariance matrix calculated using the outer product of gradients (complex-step).\n",
      "[2] Covariance matrix is singular or near-singular, with condition number    inf. Standard errors may be unstable.\n"
     ]
    },
    {
     "name": "stderr",
     "output_type": "stream",
     "text": [
      "/opt/conda/lib/python2.7/site-packages/statsmodels/base/model.py:1036: RuntimeWarning: divide by zero encountered in divide\n",
      "  return self.params / self.bse\n",
      "/opt/conda/lib/python2.7/site-packages/statsmodels/tsa/statespace/mlemodel.py:1964: RuntimeWarning: divide by zero encountered in true_divide\n",
      "  return self.params / self.bse\n",
      "/opt/conda/lib/python2.7/site-packages/numpy/linalg/linalg.py:1457: RuntimeWarning: divide by zero encountered in true_divide\n",
      "  return s[..., 0]/s[..., -1]\n"
     ]
    }
   ],
   "source": [
    "# try enforce_stationarity and enforce_invertibility to false\n",
    "# mod = sm.tsa.SARIMAX(dfmonthav['Min Delay'], trend='n', order=(0,1,0), seasonal_order=(1,1,1,12))\n",
    "mod = sm.tsa.SARIMAX(dfmonthav['Delay Count'], trend='n', order=(0,1,0), seasonal_order=(1,1,1,12), enforce_stationarity=False, enforce_invertibility = False)\n",
    "\n",
    "results = mod.fit()\n",
    "print(results.summary())"
   ]
  },
  {
   "cell_type": "code",
   "execution_count": 46,
   "metadata": {
    "collapsed": false
   },
   "outputs": [
    {
     "name": "stderr",
     "output_type": "stream",
     "text": [
      "/opt/conda/lib/python2.7/site-packages/statsmodels/base/model.py:496: ConvergenceWarning: Maximum Likelihood optimization failed to converge. Check mle_retvals\n",
      "  \"Check mle_retvals\", ConvergenceWarning)\n"
     ]
    },
    {
     "name": "stdout",
     "output_type": "stream",
     "text": [
      "                                 Statespace Model Results                                 \n",
      "==========================================================================================\n",
      "Dep. Variable:                        Delay Count   No. Observations:                   55\n",
      "Model:             SARIMAX(0, 1, 0)x(1, 1, 1, 12)   Log Likelihood                -703.241\n",
      "Date:                            Sun, 30 Sep 2018   AIC                           1412.482\n",
      "Time:                                    22:58:48   BIC                           1418.504\n",
      "Sample:                                01-31-2014   HQIC                          1414.811\n",
      "                                     - 07-31-2018                                         \n",
      "Covariance Type:                              opg                                         \n",
      "==============================================================================\n",
      "                 coef    std err          z      P>|z|      [0.025      0.975]\n",
      "------------------------------------------------------------------------------\n",
      "ar.S.L12       0.5349          0        inf      0.000       0.535       0.535\n",
      "ma.S.L12   -3.825e+14          0       -inf      0.000   -3.83e+14   -3.83e+14\n",
      "sigma2      1.257e-09   6.36e-10      1.976      0.048    1.05e-11     2.5e-09\n",
      "===================================================================================\n",
      "Ljung-Box (Q):                       26.72   Jarque-Bera (JB):                70.83\n",
      "Prob(Q):                              0.53   Prob(JB):                         0.00\n",
      "Heteroskedasticity (H):               0.22   Skew:                             1.94\n",
      "Prob(H) (two-sided):                  0.02   Kurtosis:                         9.61\n",
      "===================================================================================\n",
      "\n",
      "Warnings:\n",
      "[1] Covariance matrix calculated using the outer product of gradients (complex-step).\n",
      "[2] Covariance matrix is singular or near-singular, with condition number    inf. Standard errors may be unstable.\n"
     ]
    }
   ],
   "source": [
    "# try enforce_stationarity and enforce_invertibility to false\n",
    "# mod = sm.tsa.SARIMAX(dfmonthav['Min Delay'], trend='n', order=(0,1,0), seasonal_order=(1,1,1,12))\n",
    "mod = sm.tsa.SARIMAX(dfmonthav['Min Delay'], trend='n', order=(0,1,0), seasonal_order=(1,1,1,12), enforce_stationarity=False, enforce_invertibility = False)\n",
    "\n",
    "resultsdelay = mod.fit()\n",
    "print(results.summary())"
   ]
  },
  {
   "cell_type": "markdown",
   "metadata": {},
   "source": [
    "## Evaluation"
   ]
  },
  {
   "cell_type": "code",
   "execution_count": 47,
   "metadata": {
    "collapsed": false
   },
   "outputs": [
    {
     "data": {
      "image/png": "[encoded data removed]",
      "text/plain": [
       "<matplotlib.figure.Figure at 0x7f1b7c8f64d0>"
      ]
     },
     "metadata": {},
     "output_type": "display_data"
    }
   ],
   "source": [
    "# evaluation of delay count\n",
    "dfmonthav['forecast delay count'] = results.predict(start = 44, end= 54, dynamic= True)  \n",
    "dfmonthav[['Delay Count', 'forecast delay count']].plot(figsize=(16, 8))\n",
    "plt.show()"
   ]
  },
  {
   "cell_type": "code",
   "execution_count": 48,
   "metadata": {
    "collapsed": false
   },
   "outputs": [
    {
     "data": {
      "image/png": "[encoded data removed]",
      "text/plain": [
       "<matplotlib.figure.Figure at 0x7f1b7c6328d0>"
      ]
     },
     "metadata": {},
     "output_type": "display_data"
    }
   ],
   "source": [
    "# evaluation of delay mean\n",
    "dfmonthav['forecast delay mean'] = resultsdelay.predict(start = 44, end= 54, dynamic= True)  \n",
    "dfmonthav[['Min Delay', 'forecast delay mean']].plot(figsize=(16, 8))\n",
    "plt.show()"
   ]
  },
  {
   "cell_type": "markdown",
   "metadata": {},
   "source": [
    "## Generate future forecast"
   ]
  },
  {
   "cell_type": "code",
   "execution_count": 60,
   "metadata": {
    "collapsed": true
   },
   "outputs": [],
   "source": [
    "def forcasting_future_months(df, no_of_months, column):\n",
    "    df_perdict = df.copy()\n",
    "    df_perdict.head()\n",
    "    mon = df_perdict['Report Date Time']\n",
    "    mon = mon + pd.DateOffset(months = no_of_months)\n",
    "    future_dates = mon[-no_of_months -1:]\n",
    "    df_perdict = df_perdict.set_index('Report Date Time')\n",
    "    future = pd.DataFrame(index=future_dates, columns= df_perdict.columns)\n",
    "    df_perdict = pd.concat([df_perdict, future])\n",
    "    # df_perdict['forecast'] = results.predict(start = 38, end = 54, dynamic= True) \n",
    "    df_perdict['forecast'] = results.predict(start = 38, end = 54, dynamic= True)\n",
    "    df_perdict[[column, 'forecast']].iloc[-no_of_months - 12:].plot(figsize=(12, 8))\n",
    "    plt.show()\n",
    "    return(df_perdict)\n",
    "    # return df_perdict[-no_of_months:]"
   ]
  },
  {
   "cell_type": "code",
   "execution_count": 61,
   "metadata": {
    "collapsed": false
   },
   "outputs": [
    {
     "data": {
      "image/png": "[encoded data removed]",
      "text/plain": [
       "<matplotlib.figure.Figure at 0x7f1b751a3dd0>"
      ]
     },
     "metadata": {},
     "output_type": "display_data"
    }
   ],
   "source": [
    "# 'Min Delay' and 'Delay Count'; dfmonthav dataframe\n",
    "predicted = forcasting_future_months(dfmonthav,10,'Min Delay')"
   ]
  },
  {
   "cell_type": "code",
   "execution_count": 64,
   "metadata": {
    "collapsed": false
   },
   "outputs": [
    {
     "data": {
      "text/html": [
       "<div>\n",
       "<style>\n",
       "    .dataframe thead tr:only-child th {\n",
       "        text-align: right;\n",
       "    }\n",
       "\n",
       "    .dataframe thead th {\n",
       "        text-align: left;\n",
       "    }\n",
       "\n",
       "    .dataframe tbody tr th {\n",
       "        vertical-align: top;\n",
       "    }\n",
       "</style>\n",
       "<table border=\"1\" class=\"dataframe\">\n",
       "  <thead>\n",
       "    <tr style=\"text-align: right;\">\n",
       "      <th></th>\n",
       "      <th>Min Delay</th>\n",
       "      <th>Delay Count</th>\n",
       "      <th>Report Date Time_right</th>\n",
       "      <th>Month</th>\n",
       "      <th>forecast delay count</th>\n",
       "      <th>forecast delay mean</th>\n",
       "      <th>forecast</th>\n",
       "    </tr>\n",
       "    <tr>\n",
       "      <th>Report Date Time</th>\n",
       "      <th></th>\n",
       "      <th></th>\n",
       "      <th></th>\n",
       "      <th></th>\n",
       "      <th></th>\n",
       "      <th></th>\n",
       "      <th></th>\n",
       "    </tr>\n",
       "  </thead>\n",
       "  <tbody>\n",
       "    <tr>\n",
       "      <th>2017-11-30</th>\n",
       "      <td>10.101399</td>\n",
       "      <td>1144</td>\n",
       "      <td>2017-11-30</td>\n",
       "      <td>11</td>\n",
       "      <td>1544.603095</td>\n",
       "      <td>12.833817</td>\n",
       "      <td>2092.368690</td>\n",
       "    </tr>\n",
       "    <tr>\n",
       "      <th>2017-12-31</th>\n",
       "      <td>9.871025</td>\n",
       "      <td>1698</td>\n",
       "      <td>2017-12-31</td>\n",
       "      <td>12</td>\n",
       "      <td>1699.626071</td>\n",
       "      <td>14.184177</td>\n",
       "      <td>2247.391666</td>\n",
       "    </tr>\n",
       "    <tr>\n",
       "      <th>2018-01-31</th>\n",
       "      <td>9.795314</td>\n",
       "      <td>1622</td>\n",
       "      <td>2018-01-31</td>\n",
       "      <td>1</td>\n",
       "      <td>1134.697619</td>\n",
       "      <td>10.857300</td>\n",
       "      <td>1682.463214</td>\n",
       "    </tr>\n",
       "    <tr>\n",
       "      <th>2018-02-28</th>\n",
       "      <td>11.239316</td>\n",
       "      <td>1287</td>\n",
       "      <td>2018-02-28</td>\n",
       "      <td>2</td>\n",
       "      <td>893.209524</td>\n",
       "      <td>9.886498</td>\n",
       "      <td>1440.975119</td>\n",
       "    </tr>\n",
       "    <tr>\n",
       "      <th>2018-03-31</th>\n",
       "      <td>15.063849</td>\n",
       "      <td>1112</td>\n",
       "      <td>2018-03-31</td>\n",
       "      <td>3</td>\n",
       "      <td>824.047024</td>\n",
       "      <td>11.860917</td>\n",
       "      <td>2115.869915</td>\n",
       "    </tr>\n",
       "    <tr>\n",
       "      <th>2018-04-30</th>\n",
       "      <td>10.744763</td>\n",
       "      <td>1289</td>\n",
       "      <td>2018-04-30</td>\n",
       "      <td>4</td>\n",
       "      <td>794.419048</td>\n",
       "      <td>10.621536</td>\n",
       "      <td>2074.141229</td>\n",
       "    </tr>\n",
       "    <tr>\n",
       "      <th>2018-05-31</th>\n",
       "      <td>9.803109</td>\n",
       "      <td>1544</td>\n",
       "      <td>2018-05-31</td>\n",
       "      <td>5</td>\n",
       "      <td>1099.837143</td>\n",
       "      <td>12.286582</td>\n",
       "      <td>2180.881045</td>\n",
       "    </tr>\n",
       "    <tr>\n",
       "      <th>2018-06-30</th>\n",
       "      <td>9.772414</td>\n",
       "      <td>1595</td>\n",
       "      <td>2018-06-30</td>\n",
       "      <td>6</td>\n",
       "      <td>1075.744048</td>\n",
       "      <td>13.109730</td>\n",
       "      <td>1960.895114</td>\n",
       "    </tr>\n",
       "    <tr>\n",
       "      <th>2018-07-31</th>\n",
       "      <td>11.716491</td>\n",
       "      <td>1231</td>\n",
       "      <td>2018-07-31</td>\n",
       "      <td>7</td>\n",
       "      <td>733.767738</td>\n",
       "      <td>13.659025</td>\n",
       "      <td>1860.716092</td>\n",
       "    </tr>\n",
       "    <tr>\n",
       "      <th>2018-07-30</th>\n",
       "      <td>NaN</td>\n",
       "      <td>NaN</td>\n",
       "      <td>NaT</td>\n",
       "      <td>NaN</td>\n",
       "      <td>NaN</td>\n",
       "      <td>NaN</td>\n",
       "      <td>NaN</td>\n",
       "    </tr>\n",
       "    <tr>\n",
       "      <th>2018-08-31</th>\n",
       "      <td>NaN</td>\n",
       "      <td>NaN</td>\n",
       "      <td>NaT</td>\n",
       "      <td>NaN</td>\n",
       "      <td>NaN</td>\n",
       "      <td>NaN</td>\n",
       "      <td>NaN</td>\n",
       "    </tr>\n",
       "    <tr>\n",
       "      <th>2018-09-30</th>\n",
       "      <td>NaN</td>\n",
       "      <td>NaN</td>\n",
       "      <td>NaT</td>\n",
       "      <td>NaN</td>\n",
       "      <td>NaN</td>\n",
       "      <td>NaN</td>\n",
       "      <td>NaN</td>\n",
       "    </tr>\n",
       "    <tr>\n",
       "      <th>2018-10-31</th>\n",
       "      <td>NaN</td>\n",
       "      <td>NaN</td>\n",
       "      <td>NaT</td>\n",
       "      <td>NaN</td>\n",
       "      <td>NaN</td>\n",
       "      <td>NaN</td>\n",
       "      <td>NaN</td>\n",
       "    </tr>\n",
       "    <tr>\n",
       "      <th>2018-11-30</th>\n",
       "      <td>NaN</td>\n",
       "      <td>NaN</td>\n",
       "      <td>NaT</td>\n",
       "      <td>NaN</td>\n",
       "      <td>NaN</td>\n",
       "      <td>NaN</td>\n",
       "      <td>NaN</td>\n",
       "    </tr>\n",
       "    <tr>\n",
       "      <th>2018-12-28</th>\n",
       "      <td>NaN</td>\n",
       "      <td>NaN</td>\n",
       "      <td>NaT</td>\n",
       "      <td>NaN</td>\n",
       "      <td>NaN</td>\n",
       "      <td>NaN</td>\n",
       "      <td>NaN</td>\n",
       "    </tr>\n",
       "    <tr>\n",
       "      <th>2019-01-31</th>\n",
       "      <td>NaN</td>\n",
       "      <td>NaN</td>\n",
       "      <td>NaT</td>\n",
       "      <td>NaN</td>\n",
       "      <td>NaN</td>\n",
       "      <td>NaN</td>\n",
       "      <td>NaN</td>\n",
       "    </tr>\n",
       "    <tr>\n",
       "      <th>2019-02-28</th>\n",
       "      <td>NaN</td>\n",
       "      <td>NaN</td>\n",
       "      <td>NaT</td>\n",
       "      <td>NaN</td>\n",
       "      <td>NaN</td>\n",
       "      <td>NaN</td>\n",
       "      <td>NaN</td>\n",
       "    </tr>\n",
       "    <tr>\n",
       "      <th>2019-03-31</th>\n",
       "      <td>NaN</td>\n",
       "      <td>NaN</td>\n",
       "      <td>NaT</td>\n",
       "      <td>NaN</td>\n",
       "      <td>NaN</td>\n",
       "      <td>NaN</td>\n",
       "      <td>NaN</td>\n",
       "    </tr>\n",
       "    <tr>\n",
       "      <th>2019-04-30</th>\n",
       "      <td>NaN</td>\n",
       "      <td>NaN</td>\n",
       "      <td>NaT</td>\n",
       "      <td>NaN</td>\n",
       "      <td>NaN</td>\n",
       "      <td>NaN</td>\n",
       "      <td>NaN</td>\n",
       "    </tr>\n",
       "    <tr>\n",
       "      <th>2019-05-31</th>\n",
       "      <td>NaN</td>\n",
       "      <td>NaN</td>\n",
       "      <td>NaT</td>\n",
       "      <td>NaN</td>\n",
       "      <td>NaN</td>\n",
       "      <td>NaN</td>\n",
       "      <td>NaN</td>\n",
       "    </tr>\n",
       "  </tbody>\n",
       "</table>\n",
       "</div>"
      ],
      "text/plain": [
       "                  Min Delay Delay Count Report Date Time_right Month  \\\n",
       "Report Date Time                                                       \n",
       "2017-11-30        10.101399        1144             2017-11-30    11   \n",
       "2017-12-31         9.871025        1698             2017-12-31    12   \n",
       "2018-01-31         9.795314        1622             2018-01-31     1   \n",
       "2018-02-28        11.239316        1287             2018-02-28     2   \n",
       "2018-03-31        15.063849        1112             2018-03-31     3   \n",
       "2018-04-30        10.744763        1289             2018-04-30     4   \n",
       "2018-05-31         9.803109        1544             2018-05-31     5   \n",
       "2018-06-30         9.772414        1595             2018-06-30     6   \n",
       "2018-07-31        11.716491        1231             2018-07-31     7   \n",
       "2018-07-30              NaN         NaN                    NaT   NaN   \n",
       "2018-08-31              NaN         NaN                    NaT   NaN   \n",
       "2018-09-30              NaN         NaN                    NaT   NaN   \n",
       "2018-10-31              NaN         NaN                    NaT   NaN   \n",
       "2018-11-30              NaN         NaN                    NaT   NaN   \n",
       "2018-12-28              NaN         NaN                    NaT   NaN   \n",
       "2019-01-31              NaN         NaN                    NaT   NaN   \n",
       "2019-02-28              NaN         NaN                    NaT   NaN   \n",
       "2019-03-31              NaN         NaN                    NaT   NaN   \n",
       "2019-04-30              NaN         NaN                    NaT   NaN   \n",
       "2019-05-31              NaN         NaN                    NaT   NaN   \n",
       "\n",
       "                  forecast delay count  forecast delay mean     forecast  \n",
       "Report Date Time                                                          \n",
       "2017-11-30                 1544.603095            12.833817  2092.368690  \n",
       "2017-12-31                 1699.626071            14.184177  2247.391666  \n",
       "2018-01-31                 1134.697619            10.857300  1682.463214  \n",
       "2018-02-28                  893.209524             9.886498  1440.975119  \n",
       "2018-03-31                  824.047024            11.860917  2115.869915  \n",
       "2018-04-30                  794.419048            10.621536  2074.141229  \n",
       "2018-05-31                 1099.837143            12.286582  2180.881045  \n",
       "2018-06-30                 1075.744048            13.109730  1960.895114  \n",
       "2018-07-31                  733.767738            13.659025  1860.716092  \n",
       "2018-07-30                         NaN                  NaN          NaN  \n",
       "2018-08-31                         NaN                  NaN          NaN  \n",
       "2018-09-30                         NaN                  NaN          NaN  \n",
       "2018-10-31                         NaN                  NaN          NaN  \n",
       "2018-11-30                         NaN                  NaN          NaN  \n",
       "2018-12-28                         NaN                  NaN          NaN  \n",
       "2019-01-31                         NaN                  NaN          NaN  \n",
       "2019-02-28                         NaN                  NaN          NaN  \n",
       "2019-03-31                         NaN                  NaN          NaN  \n",
       "2019-04-30                         NaN                  NaN          NaN  \n",
       "2019-05-31                         NaN                  NaN          NaN  "
      ]
     },
     "execution_count": 64,
     "metadata": {},
     "output_type": "execute_result"
    }
   ],
   "source": [
    "predicted.tail(20)"
   ]
  },
  {
   "cell_type": "code",
   "execution_count": null,
   "metadata": {
    "collapsed": false
   },
   "outputs": [],
   "source": [
    "df.tail()"
   ]
  },
  {
   "cell_type": "code",
   "execution_count": null,
   "metadata": {
    "collapsed": true
   },
   "outputs": [],
   "source": []
  },
  {
   "cell_type": "code",
   "execution_count": null,
   "metadata": {
    "collapsed": false
   },
   "outputs": [],
   "source": [
    "def get_day_of_week_sorter():\n",
    "    sorter = ['Monday', 'Tuesday', 'Wednesday', 'Thursday', 'Friday', 'Saturday','Sunday']\n",
    "    sorterIndex = dict(zip(sorter,range(len(sorter))))\n",
    "    return(sorterIndex)"
   ]
  },
  {
   "cell_type": "code",
   "execution_count": null,
   "metadata": {
    "collapsed": false
   },
   "outputs": [],
   "source": [
    "# create index to allow correct sorting of days of the week\n",
    "def apply_day_sorter(df,sorterIndex):\n",
    "    df['Day_id'] = df['Day'].map(sorterIndex)\n",
    "    return(df)\n"
   ]
  }
 ],
 "metadata": {
  "kernelspec": {
   "display_name": "Python2 with DSX Spark",
   "language": "python",
   "name": "python2"
  },
  "language_info": {
   "codemirror_mode": {
    "name": "ipython",
    "version": 2
   },
   "file_extension": ".py",
   "mimetype": "text/x-python",
   "name": "python",
   "nbconvert_exporter": "python",
   "pygments_lexer": "ipython2",
   "version": "2.7.13"
  }
 },
 "nbformat": 4,
 "nbformat_minor": 2
}
